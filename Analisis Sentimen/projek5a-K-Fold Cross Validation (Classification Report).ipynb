{
 "cells": [
  {
   "cell_type": "markdown",
   "metadata": {},
   "source": [
    "# 7. Evaluasi Model"
   ]
  },
  {
   "cell_type": "code",
   "execution_count": 21,
   "metadata": {},
   "outputs": [],
   "source": [
    "import pandas as pd\n",
    "\n",
    "data_clean = pd.read_csv('Dataset/ulasanapp_3000_hasil_sentimen_NB_dan_SVM.csv')\n",
    "data_clean = pd.DataFrame(data_clean)\n",
    "\n",
    "A = data_clean['text_tokens_stemmed']\n",
    "B = data_clean['Label']"
   ]
  },
  {
   "cell_type": "code",
   "execution_count": 22,
   "metadata": {},
   "outputs": [
    {
     "data": {
      "text/html": [
       "<div>\n",
       "<style scoped>\n",
       "    .dataframe tbody tr th:only-of-type {\n",
       "        vertical-align: middle;\n",
       "    }\n",
       "\n",
       "    .dataframe tbody tr th {\n",
       "        vertical-align: top;\n",
       "    }\n",
       "\n",
       "    .dataframe thead th {\n",
       "        text-align: right;\n",
       "    }\n",
       "</style>\n",
       "<table border=\"1\" class=\"dataframe\">\n",
       "  <thead>\n",
       "    <tr style=\"text-align: right;\">\n",
       "      <th></th>\n",
       "      <th>userName</th>\n",
       "      <th>at</th>\n",
       "      <th>content</th>\n",
       "      <th>text_tokens_stemmed</th>\n",
       "      <th>Label</th>\n",
       "      <th>Label NB</th>\n",
       "      <th>Label SVM</th>\n",
       "    </tr>\n",
       "  </thead>\n",
       "  <tbody>\n",
       "    <tr>\n",
       "      <th>0</th>\n",
       "      <td>Pengguna Google</td>\n",
       "      <td>2024-12-12 08:14:23</td>\n",
       "      <td>Setiap apply lamaran disini, bbrpa hari atau b...</td>\n",
       "      <td>apply lamar bbrpa bbrpa minggu balas stiap per...</td>\n",
       "      <td>negatif</td>\n",
       "      <td>negatif</td>\n",
       "      <td>negatif</td>\n",
       "    </tr>\n",
       "    <tr>\n",
       "      <th>1</th>\n",
       "      <td>Pengguna Google</td>\n",
       "      <td>2024-12-12 04:27:59</td>\n",
       "      <td>Worth it</td>\n",
       "      <td>worth it</td>\n",
       "      <td>negatif</td>\n",
       "      <td>negatif</td>\n",
       "      <td>negatif</td>\n",
       "    </tr>\n",
       "    <tr>\n",
       "      <th>2</th>\n",
       "      <td>Pengguna Google</td>\n",
       "      <td>2024-12-11 23:41:41</td>\n",
       "      <td>Jadi susah re login by seek, gagal terus</td>\n",
       "      <td>susah re login by seek gagal</td>\n",
       "      <td>negatif</td>\n",
       "      <td>negatif</td>\n",
       "      <td>negatif</td>\n",
       "    </tr>\n",
       "    <tr>\n",
       "      <th>3</th>\n",
       "      <td>Pengguna Google</td>\n",
       "      <td>2024-12-11 22:51:25</td>\n",
       "      <td>TOLONG DI PERBAIKI MASALAH YANG ADA DI APLIKAS...</td>\n",
       "      <td>tolong baik aplikasi login eror gausah suruh s...</td>\n",
       "      <td>negatif</td>\n",
       "      <td>negatif</td>\n",
       "      <td>negatif</td>\n",
       "    </tr>\n",
       "    <tr>\n",
       "      <th>4</th>\n",
       "      <td>Pengguna Google</td>\n",
       "      <td>2024-12-11 12:00:10</td>\n",
       "      <td>Excellent</td>\n",
       "      <td>excellent</td>\n",
       "      <td>positif</td>\n",
       "      <td>positif</td>\n",
       "      <td>positif</td>\n",
       "    </tr>\n",
       "  </tbody>\n",
       "</table>\n",
       "</div>"
      ],
      "text/plain": [
       "          userName                   at  \\\n",
       "0  Pengguna Google  2024-12-12 08:14:23   \n",
       "1  Pengguna Google  2024-12-12 04:27:59   \n",
       "2  Pengguna Google  2024-12-11 23:41:41   \n",
       "3  Pengguna Google  2024-12-11 22:51:25   \n",
       "4  Pengguna Google  2024-12-11 12:00:10   \n",
       "\n",
       "                                             content  \\\n",
       "0  Setiap apply lamaran disini, bbrpa hari atau b...   \n",
       "1                                           Worth it   \n",
       "2           Jadi susah re login by seek, gagal terus   \n",
       "3  TOLONG DI PERBAIKI MASALAH YANG ADA DI APLIKAS...   \n",
       "4                                          Excellent   \n",
       "\n",
       "                                 text_tokens_stemmed    Label Label NB  \\\n",
       "0  apply lamar bbrpa bbrpa minggu balas stiap per...  negatif  negatif   \n",
       "1                                           worth it  negatif  negatif   \n",
       "2                       susah re login by seek gagal  negatif  negatif   \n",
       "3  tolong baik aplikasi login eror gausah suruh s...  negatif  negatif   \n",
       "4                                          excellent  positif  positif   \n",
       "\n",
       "  Label SVM  \n",
       "0   negatif  \n",
       "1   negatif  \n",
       "2   negatif  \n",
       "3   negatif  \n",
       "4   positif  "
      ]
     },
     "execution_count": 22,
     "metadata": {},
     "output_type": "execute_result"
    }
   ],
   "source": [
    "data_clean.head()"
   ]
  },
  {
   "cell_type": "code",
   "execution_count": 23,
   "metadata": {},
   "outputs": [
    {
     "data": {
      "text/plain": [
       "2753"
      ]
     },
     "execution_count": 23,
     "metadata": {},
     "output_type": "execute_result"
    }
   ],
   "source": [
    "len(data_clean)"
   ]
  },
  {
   "cell_type": "code",
   "execution_count": 24,
   "metadata": {},
   "outputs": [],
   "source": [
    "from sklearn.feature_extraction.text import TfidfVectorizer\n",
    "\n",
    "# Handle missing values by filling them with an empty string\n",
    "\n",
    "A = A.fillna('')\n",
    "\n",
    "tfid_vectorizer = TfidfVectorizer()\n",
    "\n",
    "A_fit_tfid = tfid_vectorizer.fit_transform(A)\n",
    "A_tfid = tfid_vectorizer.transform(A)"
   ]
  },
  {
   "cell_type": "markdown",
   "metadata": {},
   "source": [
    "# a1. k-fold Cross Validation NB"
   ]
  },
  {
   "cell_type": "code",
   "execution_count": 25,
   "metadata": {},
   "outputs": [
    {
     "name": "stdout",
     "output_type": "stream",
     "text": [
      "Akurasi setiap fold: [0.88566243 0.88203267 0.8784029  0.84545455 0.90727273]\n",
      "Rata-rata akurasi: 0.8797650552714075\n",
      "Standar deviasi: 0.019877925837202944\n",
      "Akurasi tertinggi: 0.9072727272727272\n",
      "Akurasi terendah: 0.8454545454545455\n",
      "Waktu eksekusi: 0.8797650552714075\n"
     ]
    }
   ],
   "source": [
    "# a1. k-fold Cross Validation NB\n",
    "from sklearn.model_selection import cross_val_score\n",
    "from sklearn.naive_bayes import MultinomialNB\n",
    "\n",
    "nb = MultinomialNB()\n",
    "nb.fit(A_tfid, B)\n",
    "\n",
    "cross_val_score(nb, A_tfid, B, cv=5, scoring='accuracy')\n",
    "print(f\"Akurasi setiap fold: {cross_val_score(nb, A_tfid, B, cv=5, scoring='accuracy')}\")\n",
    "print(f\"Rata-rata akurasi: {cross_val_score(nb, A_tfid, B, cv=5, scoring='accuracy').mean()}\")\n",
    "print(f\"Standar deviasi: {cross_val_score(nb, A_tfid, B, cv=5, scoring='accuracy').std()}\")\n",
    "print(f\"Akurasi tertinggi: {cross_val_score(nb, A_tfid, B, cv=5, scoring='accuracy').max()}\")\n",
    "print(f\"Akurasi terendah: {cross_val_score(nb, A_tfid, B, cv=5, scoring='accuracy').min()}\")\n",
    "print(f\"Waktu eksekusi: {cross_val_score(nb, A_tfid, B, cv=5, scoring='accuracy').mean()}\")\n"
   ]
  },
  {
   "cell_type": "markdown",
   "metadata": {},
   "source": [
    "# a2. k-fold Cross Validation SVM"
   ]
  },
  {
   "cell_type": "code",
   "execution_count": 26,
   "metadata": {},
   "outputs": [
    {
     "name": "stdout",
     "output_type": "stream",
     "text": [
      "Accuracy for C=0.01: 0.887032328369052\n",
      "Accuracy for C=0.05: 0.9171812568107519\n",
      "Accuracy for C=0.25: 0.9505993461678169\n",
      "Accuracy for C=0.5: 0.966581910642935\n",
      "Accuracy for C=0.75: 0.974573192880494\n",
      "Accuracy for C=1: 0.9785688339992735\n",
      "Akurasi setiap fold: [0.87114338 0.85480944 0.86206897 0.83272727 0.86909091]\n",
      "Rata-rata akurasi: 0.8579679920805148\n",
      "Standar deviasi: 0.013865052327211115\n",
      "Akurasi tertinggi: 0.8711433756805808\n",
      "Akurasi terendah: 0.8327272727272728\n",
      "Waktu eksekusi: 0.8579679920805148\n"
     ]
    }
   ],
   "source": [
    "# a2. k-fold Cross Validation SVM\n",
    "from sklearn.model_selection import cross_val_score\n",
    "from sklearn.svm import LinearSVC\n",
    "from sklearn.metrics import accuracy_score\n",
    "\n",
    "for c in [0.01, 0.05, 0.25, 0.5, 0.75, 1]:\n",
    "    svm = LinearSVC(C=c)\n",
    "    svm.fit(A_tfid, B)\n",
    "    print (\"Accuracy for C=%s: %s\" % (c, accuracy_score(B, svm.predict(A_tfid))))\n",
    "\n",
    "svm = LinearSVC(C = 1)\n",
    "svm.fit(A_tfid, B)\n",
    "\n",
    "cross_val_score(svm, A_tfid, B, cv=5, scoring='accuracy')\n",
    "print(f\"Akurasi setiap fold: {cross_val_score(svm, A_tfid, B, cv=5, scoring='accuracy')}\")\n",
    "print(f\"Rata-rata akurasi: {cross_val_score(svm, A_tfid, B, cv=5, scoring='accuracy').mean()}\")\n",
    "print(f\"Standar deviasi: {cross_val_score(svm, A_tfid, B, cv=5, scoring='accuracy').std()}\")\n",
    "print(f\"Akurasi tertinggi: {cross_val_score(svm, A_tfid, B, cv=5, scoring='accuracy').max()}\")\n",
    "print(f\"Akurasi terendah: {cross_val_score(svm, A_tfid, B, cv=5, scoring='accuracy').min()}\")\n",
    "print(f\"Waktu eksekusi: {cross_val_score(svm, A_tfid, B, cv=5, scoring='accuracy').mean()}\")"
   ]
  },
  {
   "cell_type": "markdown",
   "metadata": {},
   "source": [
    "# b1. Metriks NB"
   ]
  },
  {
   "cell_type": "code",
   "execution_count": null,
   "metadata": {},
   "outputs": [
    {
     "name": "stdout",
     "output_type": "stream",
     "text": [
      "Accuracy score: 0.9324373410824555\n",
      "Precision score: 0.933879008632945\n",
      "Recall score: 0.9324373410824555\n",
      "F1 score: 0.932554572062836\n",
      "confusion matrix:\n",
      "[[1190   58]\n",
      " [ 128 1377]]\n",
      "=========================================================\n",
      "\n",
      "              precision    recall  f1-score   support\n",
      "\n",
      "     negatif       0.90      0.95      0.93      1248\n",
      "     positif       0.96      0.91      0.94      1505\n",
      "\n",
      "    accuracy                           0.93      2753\n",
      "   macro avg       0.93      0.93      0.93      2753\n",
      "weighted avg       0.93      0.93      0.93      2753\n",
      "\n"
     ]
    }
   ],
   "source": [
    "# b1. Metriks NB\n",
    "from sklearn.metrics import accuracy_score, precision_score, recall_score, f1_score\n",
    "from sklearn.metrics import classification_report\n",
    "from sklearn.metrics import confusion_matrix\n",
    "\n",
    "print('Accuracy score:', accuracy_score(data_clean['Label'], data_clean['Label NB']))\n",
    "print('Precision score:', precision_score(data_clean['Label'], data_clean['Label NB'], average='weighted'))\n",
    "print('Recall score:', recall_score(data_clean['Label'], data_clean['Label NB'], average='weighted'))\n",
    "print('F1 score:', f1_score(data_clean['Label'], data_clean['Label NB'], average='weighted'))\n",
    "\n",
    "# confusion matrix\n",
    "print(f'confusion matrix:\\n{confusion_matrix(data_clean[\"Label\"], data_clean[\"Label NB\"])}')\n",
    "print('=========================================================\\n')\n",
    "\n",
    "print(classification_report(data_clean['Label'], data_clean['Label NB']))"
   ]
  },
  {
   "cell_type": "markdown",
   "metadata": {},
   "source": [
    "# b2. Metriks SVM"
   ]
  },
  {
   "cell_type": "code",
   "execution_count": 30,
   "metadata": {},
   "outputs": [
    {
     "name": "stdout",
     "output_type": "stream",
     "text": [
      "Accuracy score: 0.9785688339992735\n",
      "Precision score: 0.9786157251817189\n",
      "Recall score: 0.9785688339992735\n",
      "F1 score: 0.9785765473449131\n",
      "confusion matrix:\n",
      "[[1224   24]\n",
      " [  35 1470]]\n",
      "=========================================================\n",
      "\n",
      "              precision    recall  f1-score   support\n",
      "\n",
      "     negatif       0.97      0.98      0.98      1248\n",
      "     positif       0.98      0.98      0.98      1505\n",
      "\n",
      "    accuracy                           0.98      2753\n",
      "   macro avg       0.98      0.98      0.98      2753\n",
      "weighted avg       0.98      0.98      0.98      2753\n",
      "\n"
     ]
    }
   ],
   "source": [
    "# b2. Metriks SVM\n",
    "from sklearn.metrics import accuracy_score, precision_score, recall_score, f1_score\n",
    "from sklearn.metrics import classification_report\n",
    "from sklearn.metrics import confusion_matrix\n",
    "\n",
    "print('Accuracy score:', accuracy_score(data_clean['Label'], data_clean['Label SVM']))\n",
    "print('Precision score:', precision_score(data_clean['Label'], data_clean['Label SVM'], average='weighted'))\n",
    "print('Recall score:', recall_score(data_clean['Label'], data_clean['Label SVM'], average='weighted'))\n",
    "print('F1 score:', f1_score(data_clean['Label'], data_clean['Label SVM'], average='weighted'))\n",
    "\n",
    "# confusion matrix\n",
    "print(f'confusion matrix:\\n{confusion_matrix(data_clean[\"Label\"], data_clean[\"Label SVM\"])}')\n",
    "print('=========================================================\\n')\n",
    "\n",
    "print(classification_report(data_clean['Label'], data_clean['Label SVM']))"
   ]
  },
  {
   "cell_type": "markdown",
   "metadata": {},
   "source": [
    "# 8. Analisis dan Perbandingan Hasil"
   ]
  },
  {
   "cell_type": "markdown",
   "metadata": {},
   "source": [
    "# a. Perbandingan Akurasi"
   ]
  },
  {
   "cell_type": "code",
   "execution_count": 29,
   "metadata": {},
   "outputs": [
    {
     "name": "stdout",
     "output_type": "stream",
     "text": [
      "Rata-rata akurasi NB (K-Fold Cross Validation): 0.8797650552714075\n",
      "Rata-rata akurasi SVM (K-Fold Cross Validation): 0.8579679920805148\n",
      "\n",
      "Metriks NB\n",
      "Accuracy score: 0.9324373410824555\n",
      "Precision score: 0.933879008632945\n",
      "Recall score: 0.9324373410824555\n",
      "F1 score: 0.932554572062836\n",
      "confusion matrix:\n",
      "[[1190   58]\n",
      " [ 128 1377]]\n",
      "=========================================================\n",
      "\n",
      "              precision    recall  f1-score   support\n",
      "\n",
      "     negatif       0.90      0.95      0.93      1248\n",
      "     positif       0.96      0.91      0.94      1505\n",
      "\n",
      "    accuracy                           0.93      2753\n",
      "   macro avg       0.93      0.93      0.93      2753\n",
      "weighted avg       0.93      0.93      0.93      2753\n",
      "\n",
      "\n",
      "Metriks SVM\n",
      "Accuracy score: 0.9785688339992735\n",
      "Precision score: 0.9786157251817189\n",
      "Recall score: 0.9785688339992735\n",
      "F1 score: 0.9785765473449131\n",
      "confusion matrix:\n",
      "[[1224   24]\n",
      " [  35 1470]]\n",
      "=========================================================\n",
      "\n",
      "              precision    recall  f1-score   support\n",
      "\n",
      "     negatif       0.97      0.98      0.98      1248\n",
      "     positif       0.98      0.98      0.98      1505\n",
      "\n",
      "    accuracy                           0.98      2753\n",
      "   macro avg       0.98      0.98      0.98      2753\n",
      "weighted avg       0.98      0.98      0.98      2753\n",
      "\n"
     ]
    }
   ],
   "source": [
    "print(f\"Rata-rata akurasi NB (K-Fold Cross Validation): {cross_val_score(nb, A_tfid, B, cv=5, scoring='accuracy').mean()}\")\n",
    "print(f\"Rata-rata akurasi SVM (K-Fold Cross Validation): {cross_val_score(svm, A_tfid, B, cv=5, scoring='accuracy').mean()}\")\n",
    "\n",
    "# Metriks NB\n",
    "print(\"\")\n",
    "print(\"Metriks NB\")\n",
    "print('Accuracy score:', accuracy_score(data_clean['Label'], data_clean['Label NB']))\n",
    "print('Precision score:', precision_score(data_clean['Label'], data_clean['Label NB'], average='weighted'))\n",
    "print('Recall score:', recall_score(data_clean['Label'], data_clean['Label NB'], average='weighted'))\n",
    "print('F1 score:', f1_score(data_clean['Label'], data_clean['Label NB'], average='weighted'))\n",
    "\n",
    "# confusion matrix\n",
    "print(f'confusion matrix:\\n{confusion_matrix(data_clean[\"Label\"], data_clean[\"Label NB\"])}')\n",
    "print('=========================================================\\n')\n",
    "\n",
    "print(classification_report(data_clean['Label'], data_clean['Label NB']))\n",
    "\n",
    "# Metriks SVM\n",
    "print(\"\")\n",
    "print(\"Metriks SVM\")\n",
    "print('Accuracy score:', accuracy_score(data_clean['Label'], data_clean['Label SVM']))\n",
    "print('Precision score:', precision_score(data_clean['Label'], data_clean['Label SVM'], average='weighted'))\n",
    "print('Recall score:', recall_score(data_clean['Label'], data_clean['Label SVM'], average='weighted'))\n",
    "print('F1 score:', f1_score(data_clean['Label'], data_clean['Label SVM'], average='weighted'))\n",
    "\n",
    "# confusion matrix\n",
    "print(f'confusion matrix:\\n{confusion_matrix(data_clean[\"Label\"], data_clean[\"Label SVM\"])}')\n",
    "print('=========================================================\\n')\n",
    "\n",
    "print(classification_report(data_clean['Label'], data_clean['Label SVM']))"
   ]
  },
  {
   "cell_type": "markdown",
   "metadata": {},
   "source": [
    "# b. Interpretasi Hasil"
   ]
  },
  {
   "cell_type": "markdown",
   "metadata": {},
   "source": [
    "Berikut adalah interpretasi hasil yang dapat dijelaskan berdasarkan data yang diberikan:\n",
    "\n",
    "1. Analisis Performa Naive Bayes (NB)\n",
    "Naive Bayes adalah algoritma berbasis probabilitas yang mengasumsikan bahwa setiap fitur bersifat independen. Karena asumsi ini, NB bekerja sangat baik pada dataset yang memiliki fitur sederhana dan distribusi data yang sesuai dengan asumsi independensi.\n",
    "\n",
    "Akurasi rata-rata: 0.8797 (K-Fold CV), lebih rendah dari akurasi pada data tes (0.9324), menunjukkan kinerja yang cukup stabil.\n",
    "Confusion Matrix:\n",
    "False Positive (FP): 58 ulasan negatif salah diklasifikasikan sebagai positif.\n",
    "False Negative (FN): 128 ulasan positif salah diklasifikasikan sebagai negatif.\n",
    "Evaluasi Berdasarkan Kategori:\n",
    "Precision (Positif): 0.96, artinya model mampu memprediksi ulasan positif dengan baik, meskipun ada beberapa kesalahan.\n",
    "Recall (Negatif): 0.95, menunjukkan bahwa sebagian besar ulasan negatif terdeteksi dengan benar.\n",
    "Kelemahan NB\n",
    "Asumsi independensi antar fitur bisa menjadi terlalu sederhana, terutama jika fitur ulasan memiliki korelasi yang tinggi.\n",
    "Rentan terhadap misclassifikasi, \n",
    "Misclassifikasi adalah kesalahan dalam pengklasifikasian data, yaitu ketika model prediksi salah menentukan label suatu data. Contohnya:\n",
    "\n",
    "False Positive (FP): Data negatif diprediksi sebagai positif.\n",
    "False Negative (FN): Data positif diprediksi sebagai negatif.\n",
    "Ini mencerminkan ketidakakuratan model dalam memisahkan kelas dengan benar.\n",
    "\n",
    "Kelebihan NB\n",
    "Algoritma yang cepat dan efisien, terutama untuk dataset besar.\n",
    "Sangat cocok untuk data teks, seperti ulasan, karena bekerja dengan representasi berbasis frekuensi seperti bag-of-words atau TF-IDF.\n",
    "Namun, pada kasus ini, akurasi rata-rata NB lebih rendah dibandingkan SVM. Hal ini mungkin disebabkan oleh asumsi independensi fitur yang tidak sepenuhnya berlaku, sehingga NB kehilangan sensitivitas terhadap pola-pola kompleks dalam ulasan.\n",
    "\n",
    "2. Analisis Performa Support Vector Machine (SVM)\n",
    "SVM adalah algoritma pembelajaran mesin yang bekerja dengan cara mencari hyperplane terbaik untuk memisahkan data ke dalam kelas-kelas yang berbeda. SVM dikenal sangat baik dalam menangani data berdimensi tinggi dan non-linear, terutama dengan kernel yang sesuai.\n",
    "\n",
    "Akurasi rata-rata: 0.8579 (K-Fold CV), lebih rendah dari akurasi pada data tes (0.9785), menunjukkan performa yang baik secara konsisten.\n",
    "Confusion Matrix:\n",
    "False Positive (FP): 24 ulasan negatif salah diklasifikasikan sebagai positif.\n",
    "False Negative (FN): 35 ulasan positif salah diklasifikasikan sebagai negatif.\n",
    "Evaluasi Berdasarkan Kategori:\n",
    "Precision (Positif): 0.98, menunjukkan model sangat andal dalam memprediksi ulasan positif.\n",
    "Recall (Negatif): 0.98, artinya sebagian besar ulasan negatif teridentifikasi dengan benar.\n",
    "Kelebihan SVM\n",
    "SVM lebih robust terhadap pola-pola yang kompleks karena menggunakan margin optimal untuk memisahkan data.\n",
    "Lebih tahan terhadap overfitting, terutama ketika kernel yang digunakan sesuai.\n",
    "Kelemahan SVM\n",
    "Proses pelatihan lebih lama dibandingkan NB, terutama pada dataset besar.\n",
    "Kurang cocok jika data memiliki banyak noise atau tidak terpisahkan secara linear.\n",
    "\n",
    "3. Perbandingan Akurasi\n",
    "Perbedaan rata-rata akurasi antara NB (0.8797) dan SVM (0.8579) pada K-Fold Cross Validation cukup kecil, tetapi pada data uji, akurasi SVM (0.9785) jauh lebih tinggi dibandingkan NB (0.9324). Hal ini menunjukkan bahwa SVM mampu memanfaatkan pola-pola yang lebih kompleks dalam ulasan, sehingga memberikan hasil yang lebih akurat.\n",
    "\n",
    "Mengapa SVM Lebih Akurat?\n",
    "\n",
    "Kemampuan menangkap pola kompleks: SVM menggunakan hyperplane untuk memisahkan kelas yang mungkin tidak linear, sementara NB hanya menggunakan probabilitas berdasarkan fitur independen.\n",
    "Penanganan outlier: Margin SVM yang optimal membantu mengurangi pengaruh data outlier, sedangkan NB lebih rentan terhadap kesalahan ini.\n",
    "Penggunaan kernel: Jika kernel yang digunakan sesuai (seperti RBF atau linear), SVM dapat bekerja sangat baik pada data yang tidak terdistribusi secara normal.\n",
    "Mengapa NB Masih Kompetitif?\n",
    "\n",
    "Meski akurasinya lebih rendah, NB tetap memberikan hasil yang cepat dan efisien karena kesederhanaannya.\n",
    "NB memiliki trade-off performa yang baik, terutama jika dataset tidak memiliki pola kompleks atau berisi banyak noise.\n"
   ]
  },
  {
   "cell_type": "markdown",
   "metadata": {},
   "source": [
    "# 9. Kesimpulan"
   ]
  },
  {
   "cell_type": "markdown",
   "metadata": {},
   "source": [
    "Naive Bayes bekerja baik untuk ulasan yang memiliki pola sederhana dan independen antar fitur. Namun, asumsi independensi fitur membuatnya kalah performa dibandingkan SVM pada data ulasan ini.\n",
    "SVM lebih unggul karena mampu menangkap pola kompleks antar fitur dan lebih robust terhadap outlier. Namun, ini datang dengan biaya komputasi yang lebih tinggi.\n",
    "Perbedaan Akurasi:\n",
    "Perbedaan akurasi mungkin muncul karena NB kesulitan menangani korelasi antar fitur dalam ulasan, sementara SVM dapat memisahkan kelas secara lebih presisi."
   ]
  }
 ],
 "metadata": {
  "kernelspec": {
   "display_name": ".venv",
   "language": "python",
   "name": "python3"
  },
  "language_info": {
   "codemirror_mode": {
    "name": "ipython",
    "version": 3
   },
   "file_extension": ".py",
   "mimetype": "text/x-python",
   "name": "python",
   "nbconvert_exporter": "python",
   "pygments_lexer": "ipython3",
   "version": "3.10.0"
  }
 },
 "nbformat": 4,
 "nbformat_minor": 2
}
