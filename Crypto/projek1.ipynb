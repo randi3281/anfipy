{
 "cells": [
  {
   "cell_type": "code",
   "execution_count": 2,
   "metadata": {},
   "outputs": [
    {
     "name": "stdout",
     "output_type": "stream",
     "text": [
      "Collecting beautifulsoup4\n",
      "  Using cached beautifulsoup4-4.12.3-py3-none-any.whl.metadata (3.8 kB)\n",
      "Collecting soupsieve>1.2 (from beautifulsoup4)\n",
      "  Using cached soupsieve-2.6-py3-none-any.whl.metadata (4.6 kB)\n",
      "Using cached beautifulsoup4-4.12.3-py3-none-any.whl (147 kB)\n",
      "Using cached soupsieve-2.6-py3-none-any.whl (36 kB)\n",
      "Installing collected packages: soupsieve, beautifulsoup4\n",
      "Successfully installed beautifulsoup4-4.12.3 soupsieve-2.6\n",
      "Note: you may need to restart the kernel to use updated packages.\n"
     ]
    }
   ],
   "source": [
    "%pip install beautifulsoup4\n"
   ]
  },
  {
   "cell_type": "code",
   "execution_count": 12,
   "metadata": {},
   "outputs": [
    {
     "name": "stdout",
     "output_type": "stream",
     "text": [
      "Harga Bitcoin saat ini: 96,478.14 USD\n"
     ]
    }
   ],
   "source": [
    "import requests\n",
    "from bs4 import BeautifulSoup\n",
    "\n",
    "# URL untuk mendapatkan data harga Bitcoin (Coindesk sebagai contoh)\n",
    "url = 'https://www.coindesk.com/price/bitcoin'\n",
    "\n",
    "# Mengirim request ke URL\n",
    "response = requests.get(url)\n",
    "\n",
    "# Mengecek apakah request berhasil (status code 200)\n",
    "if response.status_code == 200:\n",
    "    # Menggunakan BeautifulSoup untuk parsing HTML\n",
    "    soup = BeautifulSoup(response.text, 'html.parser')\n",
    "\n",
    "    # Mencari elemen yang mengandung harga Bitcoin, misalnya dengan kelas tertentu\n",
    "    # Kamu perlu menyesuaikan dengan elemen yang tepat dari situs web target\n",
    "    price_element = soup.find('div', class_='flex justify-end items-center gap-0')\n",
    "\n",
    "    if price_element:\n",
    "        # Menampilkan harga Bitcoin\n",
    "        print(\"Harga Bitcoin saat ini: \" + price_element.text.strip())\n",
    "    else:\n",
    "        print(\"Tidak dapat menemukan harga Bitcoin.\")\n",
    "else:\n",
    "    print(f\"Terjadi kesalahan: {response.status_code}\")\n"
   ]
  }
 ],
 "metadata": {
  "kernelspec": {
   "display_name": ".venv",
   "language": "python",
   "name": "python3"
  },
  "language_info": {
   "codemirror_mode": {
    "name": "ipython",
    "version": 3
   },
   "file_extension": ".py",
   "mimetype": "text/x-python",
   "name": "python",
   "nbconvert_exporter": "python",
   "pygments_lexer": "ipython3",
   "version": "3.10.0"
  }
 },
 "nbformat": 4,
 "nbformat_minor": 2
}
