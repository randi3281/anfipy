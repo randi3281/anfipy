{
 "cells": [
  {
   "cell_type": "markdown",
   "metadata": {},
   "source": [
    "# Analisis multiple linear regression pengaruh T2M_MIN,\tT2M_MAX, T2M_RANGE,\tT2MWET,\tT2MDEW,\tT2M terhadap TS di Kota Palembang tahun 1991 sampai 2020\n",
    "#### T2M_MIN: Suhu minimum pada ketinggian 2 meter.\n",
    "#### T2M_MAX: Suhu maksimum pada ketinggian 2 meter.\n",
    "#### T2M_RANGE: Rentang suhu (selisih antara suhu maksimum dan minimum) pada ketinggian 2 meter.\n",
    "#### T2MWET: Suhu basah pada ketinggian 2 meter (Wet-bulb temperature), yakni suhu terendah yang dapat dicapai oleh permukaan air yang menguap ke udara pada ketinggian tersebut.\n",
    "#### T2MDEW: Suhu titik embun (dew point) pada ketinggian 2 meter, yaitu suhu di mana uap air mulai mengembun menjadi titik-titik air.\n",
    "#### T2M: Suhu rata-rata pada ketinggian 2 meter."
   ]
  },
  {
   "cell_type": "code",
   "execution_count": 269,
   "metadata": {},
   "outputs": [],
   "source": [
    "import pandas as pd\n",
    "from sklearn.model_selection import train_test_split\n",
    "from sklearn.linear_model import LinearRegression\n",
    "from sklearn.metrics import r2_score\n",
    "\n",
    "# Contoh dataset (gantilah ini dengan dataset yang sebenarnya)\n",
    "\n",
    "data = pd.read_csv('dataskynew.csv')\n",
    "\n",
    "# Membuat DataFrame dari dataset\n",
    "df = pd.DataFrame(data)\n",
    "\n",
    "# Variabel independen (YEAR, MO, DY, TS)\n",
    "X = df[['T2M', 'T2M_MIN', 'T2M_MAX', 'T2M_RANGE', 'T2MWET', 'T2MDEW']]\n",
    "\n",
    "# Variabel dependen (TS)\n",
    "y = df['TS']\n",
    "\n",
    "# Membuat model Multiple Linear Regression\n",
    "model = LinearRegression()\n",
    "\n",
    "# Melatih model dengan data training\n",
    "model.fit(X, y)\n",
    "\n",
    "# Memprediksi data testing\n",
    "y_pred = model.predict(X)\n"
   ]
  },
  {
   "cell_type": "code",
   "execution_count": 270,
   "metadata": {},
   "outputs": [
    {
     "data": {
      "text/html": [
       "<div>\n",
       "<style scoped>\n",
       "    .dataframe tbody tr th:only-of-type {\n",
       "        vertical-align: middle;\n",
       "    }\n",
       "\n",
       "    .dataframe tbody tr th {\n",
       "        vertical-align: top;\n",
       "    }\n",
       "\n",
       "    .dataframe thead th {\n",
       "        text-align: right;\n",
       "    }\n",
       "</style>\n",
       "<table border=\"1\" class=\"dataframe\">\n",
       "  <thead>\n",
       "    <tr style=\"text-align: right;\">\n",
       "      <th></th>\n",
       "      <th>DATE</th>\n",
       "      <th>T2M</th>\n",
       "      <th>T2M_MIN</th>\n",
       "      <th>T2M_MAX</th>\n",
       "      <th>T2M_RANGE</th>\n",
       "      <th>T2MWET</th>\n",
       "      <th>T2MDEW</th>\n",
       "      <th>TS</th>\n",
       "    </tr>\n",
       "  </thead>\n",
       "  <tbody>\n",
       "    <tr>\n",
       "      <th>0</th>\n",
       "      <td>1991-01-01</td>\n",
       "      <td>25.69</td>\n",
       "      <td>23.65</td>\n",
       "      <td>28.69</td>\n",
       "      <td>5.03</td>\n",
       "      <td>24.83</td>\n",
       "      <td>23.97</td>\n",
       "      <td>25.76</td>\n",
       "    </tr>\n",
       "    <tr>\n",
       "      <th>1</th>\n",
       "      <td>1991-01-02</td>\n",
       "      <td>25.85</td>\n",
       "      <td>23.49</td>\n",
       "      <td>29.25</td>\n",
       "      <td>5.76</td>\n",
       "      <td>24.77</td>\n",
       "      <td>23.69</td>\n",
       "      <td>25.96</td>\n",
       "    </tr>\n",
       "    <tr>\n",
       "      <th>2</th>\n",
       "      <td>1991-01-03</td>\n",
       "      <td>25.74</td>\n",
       "      <td>23.29</td>\n",
       "      <td>29.28</td>\n",
       "      <td>5.99</td>\n",
       "      <td>24.76</td>\n",
       "      <td>23.76</td>\n",
       "      <td>25.88</td>\n",
       "    </tr>\n",
       "    <tr>\n",
       "      <th>3</th>\n",
       "      <td>1991-01-04</td>\n",
       "      <td>25.66</td>\n",
       "      <td>23.55</td>\n",
       "      <td>28.64</td>\n",
       "      <td>5.09</td>\n",
       "      <td>24.90</td>\n",
       "      <td>24.14</td>\n",
       "      <td>25.76</td>\n",
       "    </tr>\n",
       "    <tr>\n",
       "      <th>4</th>\n",
       "      <td>1991-01-05</td>\n",
       "      <td>25.64</td>\n",
       "      <td>23.62</td>\n",
       "      <td>28.48</td>\n",
       "      <td>4.87</td>\n",
       "      <td>24.83</td>\n",
       "      <td>24.04</td>\n",
       "      <td>25.74</td>\n",
       "    </tr>\n",
       "    <tr>\n",
       "      <th>...</th>\n",
       "      <td>...</td>\n",
       "      <td>...</td>\n",
       "      <td>...</td>\n",
       "      <td>...</td>\n",
       "      <td>...</td>\n",
       "      <td>...</td>\n",
       "      <td>...</td>\n",
       "      <td>...</td>\n",
       "    </tr>\n",
       "    <tr>\n",
       "      <th>10953</th>\n",
       "      <td>2020-12-27</td>\n",
       "      <td>25.80</td>\n",
       "      <td>23.38</td>\n",
       "      <td>28.85</td>\n",
       "      <td>5.48</td>\n",
       "      <td>24.98</td>\n",
       "      <td>24.17</td>\n",
       "      <td>25.86</td>\n",
       "    </tr>\n",
       "    <tr>\n",
       "      <th>10954</th>\n",
       "      <td>2020-12-28</td>\n",
       "      <td>25.45</td>\n",
       "      <td>23.76</td>\n",
       "      <td>27.63</td>\n",
       "      <td>3.87</td>\n",
       "      <td>24.82</td>\n",
       "      <td>24.18</td>\n",
       "      <td>25.37</td>\n",
       "    </tr>\n",
       "    <tr>\n",
       "      <th>10955</th>\n",
       "      <td>2020-12-29</td>\n",
       "      <td>24.80</td>\n",
       "      <td>22.45</td>\n",
       "      <td>27.91</td>\n",
       "      <td>5.47</td>\n",
       "      <td>23.98</td>\n",
       "      <td>23.14</td>\n",
       "      <td>24.87</td>\n",
       "    </tr>\n",
       "    <tr>\n",
       "      <th>10956</th>\n",
       "      <td>2020-12-30</td>\n",
       "      <td>25.62</td>\n",
       "      <td>23.29</td>\n",
       "      <td>28.69</td>\n",
       "      <td>5.40</td>\n",
       "      <td>24.83</td>\n",
       "      <td>24.04</td>\n",
       "      <td>25.71</td>\n",
       "    </tr>\n",
       "    <tr>\n",
       "      <th>10957</th>\n",
       "      <td>2020-12-31</td>\n",
       "      <td>24.82</td>\n",
       "      <td>23.62</td>\n",
       "      <td>26.50</td>\n",
       "      <td>2.89</td>\n",
       "      <td>24.39</td>\n",
       "      <td>23.95</td>\n",
       "      <td>24.77</td>\n",
       "    </tr>\n",
       "  </tbody>\n",
       "</table>\n",
       "<p>10958 rows × 8 columns</p>\n",
       "</div>"
      ],
      "text/plain": [
       "             DATE    T2M  T2M_MIN  T2M_MAX  T2M_RANGE  T2MWET  T2MDEW     TS\n",
       "0      1991-01-01  25.69    23.65    28.69       5.03   24.83   23.97  25.76\n",
       "1      1991-01-02  25.85    23.49    29.25       5.76   24.77   23.69  25.96\n",
       "2      1991-01-03  25.74    23.29    29.28       5.99   24.76   23.76  25.88\n",
       "3      1991-01-04  25.66    23.55    28.64       5.09   24.90   24.14  25.76\n",
       "4      1991-01-05  25.64    23.62    28.48       4.87   24.83   24.04  25.74\n",
       "...           ...    ...      ...      ...        ...     ...     ...    ...\n",
       "10953  2020-12-27  25.80    23.38    28.85       5.48   24.98   24.17  25.86\n",
       "10954  2020-12-28  25.45    23.76    27.63       3.87   24.82   24.18  25.37\n",
       "10955  2020-12-29  24.80    22.45    27.91       5.47   23.98   23.14  24.87\n",
       "10956  2020-12-30  25.62    23.29    28.69       5.40   24.83   24.04  25.71\n",
       "10957  2020-12-31  24.82    23.62    26.50       2.89   24.39   23.95  24.77\n",
       "\n",
       "[10958 rows x 8 columns]"
      ]
     },
     "execution_count": 270,
     "metadata": {},
     "output_type": "execute_result"
    }
   ],
   "source": [
    "df"
   ]
  },
  {
   "cell_type": "code",
   "execution_count": 271,
   "metadata": {},
   "outputs": [
    {
     "data": {
      "text/plain": [
       "array([25.70778296, 25.90477053, 25.83114769, ..., 24.80457962,\n",
       "       25.64533057, 24.66120884])"
      ]
     },
     "execution_count": 271,
     "metadata": {},
     "output_type": "execute_result"
    }
   ],
   "source": [
    "y_pred"
   ]
  },
  {
   "cell_type": "code",
   "execution_count": 273,
   "metadata": {},
   "outputs": [
    {
     "data": {
      "text/plain": [
       "0.9785938289774616"
      ]
     },
     "execution_count": 273,
     "metadata": {},
     "output_type": "execute_result"
    }
   ],
   "source": [
    "r2_score(y, y_pred)"
   ]
  },
  {
   "cell_type": "code",
   "execution_count": 274,
   "metadata": {},
   "outputs": [
    {
     "data": {
      "image/png": "[encoded data removed]",
      "text/plain": [
       "<Figure size 640x480 with 1 Axes>"
      ]
     },
     "metadata": {},
     "output_type": "display_data"
    }
   ],
   "source": [
    "# buatlah visualisasi scatter dan garis regresi dari model yang telah dibuat\n",
    "\n",
    "import matplotlib.pyplot as plt\n",
    "\n",
    "plt.scatter(y, y_pred, color='blue')\n",
    "\n",
    "plt.title('TS Actual vs TS Predicted')\n",
    "plt.xlabel('TS Actual')\n",
    "plt.ylabel('TS Predicted')\n",
    "plt.show()"
   ]
  },
  {
   "cell_type": "code",
   "execution_count": 275,
   "metadata": {},
   "outputs": [
    {
     "name": "stdout",
     "output_type": "stream",
     "text": [
      "                            OLS Regression Results                            \n",
      "==============================================================================\n",
      "Dep. Variable:                     TS   R-squared:                       0.979\n",
      "Model:                            OLS   Adj. R-squared:                  0.979\n",
      "Method:                 Least Squares   F-statistic:                 8.344e+04\n",
      "Date:                Wed, 16 Oct 2024   Prob (F-statistic):               0.00\n",
      "Time:                        14:54:37   Log-Likelihood:                 8571.9\n",
      "No. Observations:               10958   AIC:                        -1.713e+04\n",
      "Df Residuals:                   10951   BIC:                        -1.708e+04\n",
      "Df Model:                           6                                         \n",
      "Covariance Type:            nonrobust                                         \n",
      "==============================================================================\n",
      "                 coef    std err          t      P>|t|      [0.025      0.975]\n",
      "------------------------------------------------------------------------------\n",
      "const         -1.2334      0.043    -28.793      0.000      -1.317      -1.149\n",
      "T2M            0.4481      0.118      3.800      0.000       0.217       0.679\n",
      "T2M_MIN        0.1797      0.168      1.067      0.286      -0.150       0.510\n",
      "T2M_MAX        0.0603      0.168      0.358      0.720      -0.270       0.390\n",
      "T2M_RANGE      0.1303      0.168      0.774      0.439      -0.200       0.460\n",
      "T2MWET         0.5559      0.236      2.359      0.018       0.094       1.018\n",
      "T2MDEW        -0.2089      0.118     -1.773      0.076      -0.440       0.022\n",
      "==============================================================================\n",
      "Omnibus:                     1474.567   Durbin-Watson:                   0.964\n",
      "Prob(Omnibus):                  0.000   Jarque-Bera (JB):             5174.104\n",
      "Skew:                          -0.665   Prob(JB):                         0.00\n",
      "Kurtosis:                       6.092   Cond. No.                     1.60e+04\n",
      "==============================================================================\n",
      "\n",
      "Notes:\n",
      "[1] Standard Errors assume that the covariance matrix of the errors is correctly specified.\n",
      "[2] The condition number is large, 1.6e+04. This might indicate that there are\n",
      "strong multicollinearity or other numerical problems.\n"
     ]
    }
   ],
   "source": [
    "import statsmodels.api as sm\n",
    "# Menambahkan konstanta untuk model\n",
    "X = sm.add_constant(X)\n",
    "\n",
    "# Membuat model regresi\n",
    "model = sm.OLS(y, X).fit()\n",
    "\n",
    "# Menampilkan ringkasan hasil regresi\n",
    "print(model.summary())"
   ]
  }
 ],
 "metadata": {
  "kernelspec": {
   "display_name": "Python 3",
   "language": "python",
   "name": "python3"
  },
  "language_info": {
   "codemirror_mode": {
    "name": "ipython",
    "version": 3
   },
   "file_extension": ".py",
   "mimetype": "text/x-python",
   "name": "python",
   "nbconvert_exporter": "python",
   "pygments_lexer": "ipython3",
   "version": "3.10.12"
  }
 },
 "nbformat": 4,
 "nbformat_minor": 2
}
