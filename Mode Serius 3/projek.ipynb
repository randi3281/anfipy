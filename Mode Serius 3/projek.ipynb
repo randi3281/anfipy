{
 "cells": [
  {
   "cell_type": "markdown",
   "metadata": {},
   "source": [
    "# Persiapan"
   ]
  },
  {
   "cell_type": "code",
   "execution_count": 1,
   "metadata": {},
   "outputs": [],
   "source": [
    "from google_play_scraper import app\n",
    "import pandas as pd\n",
    "import numpy as np"
   ]
  },
  {
   "cell_type": "markdown",
   "metadata": {},
   "source": [
    "# Cara Ambil Data Semuanya"
   ]
  },
  {
   "cell_type": "code",
   "execution_count": 2,
   "metadata": {},
   "outputs": [],
   "source": [
    "# Scrap all reviews aplikasi reku di playstore\n",
    "from google_play_scraper import Sort, reviews_all\n",
    "\n",
    "review = reviews_all(\n",
    "    'com.jobstreet.jobstreet',\n",
    "    sleep_milliseconds=0, # defaults to 0\n",
    "    lang='id', # defaults to 'en'\n",
    "    country='id', # defaults to 'us'\n",
    "    sort=Sort.NEWEST # defaults to Sort.MOST_RELEVANT\n",
    ")"
   ]
  },
  {
   "cell_type": "markdown",
   "metadata": {},
   "source": [
    "# Cara Bikin CSV Data Sangat Mentah Semuanya"
   ]
  },
  {
   "cell_type": "code",
   "execution_count": 4,
   "metadata": {},
   "outputs": [],
   "source": [
    "df_reku = pd.DataFrame(np.array(review), columns=['content'])\n",
    "# df_reku.to_csv('reku.csv', index=False)\n",
    "df_reku.to_csv('jobstreet_all_column_review_mentah_2.csv', index=False)\n",
    "\n",
    "# Memilih kolom 'score' dan 'content' dalam content\n",
    "df_reku = pd.DataFrame(np.array(review), columns=['content'])\n",
    "df_reku = df_reku.join(pd.DataFrame(df_reku.pop('content').tolist()))\n",
    "df_selected = df_reku[['content', 'score']]\n",
    "\n",
    "# Menyimpan hasilnya ke dalam file CSV\n",
    "df_selected.to_csv('jobstreet_selected_column_review_mentah.csv', index=False)\n"
   ]
  },
  {
   "cell_type": "markdown",
   "metadata": {},
   "source": [
    "# Cara Ambil 3000 Data Saja"
   ]
  },
  {
   "cell_type": "code",
   "execution_count": 5,
   "metadata": {},
   "outputs": [],
   "source": [
    "\n",
    "# Scrap some reviews aplikasi reku di playstore\n",
    "from google_play_scraper import Sort, reviews\n",
    "\n",
    "result, continuation_token = reviews(\n",
    "    'com.jobstreet.jobstreet',\n",
    "    lang='id', # defaults to 'en'\n",
    "    country='id', # defaults to 'us'\n",
    "    sort=Sort.NEWEST, # defaults to Sort.MOST_RELEVANT\n",
    "    count=3000, # defaults to 100\n",
    "    filter_score_with=None # defaults to None(means all score) Use 1 for only 1 star, 2 for 2 star, 3 for 3 star, 4 for 4 star and 5 for 5 star.\n",
    ")"
   ]
  },
  {
   "cell_type": "markdown",
   "metadata": {},
   "source": [
    "# Cara Bikin CSV Data Sangat Mentah 3000 Data saja"
   ]
  },
  {
   "cell_type": "code",
   "execution_count": 6,
   "metadata": {},
   "outputs": [],
   "source": [
    "df_reku = pd.DataFrame(np.array(result), columns=['content'])\n",
    "# df_reku.to_csv('reku.csv', index=False)\n",
    "\n",
    "# Memilih kolom 'score' dan 'content' dalam content\n",
    "df_selected = df_reku[['content']]\n",
    "\n",
    "# Menyimpan hasilnya ke dalam file CSV\n",
    "df_selected.to_csv('jobstreet_3000_selected.csv', index=False)\n"
   ]
  },
  {
   "cell_type": "markdown",
   "metadata": {},
   "source": [
    "# Cara Bikin CSV Data Mentah "
   ]
  },
  {
   "cell_type": "code",
   "execution_count": 7,
   "metadata": {},
   "outputs": [],
   "source": [
    "# panggil data reku_selected.cv dan pecah datanya jadikan tolist\n",
    "data = pd.DataFrame(np.array(result), columns=['content'])\n",
    "data = data.join(pd.DataFrame(data.pop('content').tolist()))\n",
    "data.to_csv('jobstreet_3000_selected2.csv', index=False)"
   ]
  },
  {
   "cell_type": "markdown",
   "metadata": {},
   "source": [
    "# Cara Bikin CSV Data Column Tertentu"
   ]
  },
  {
   "cell_type": "code",
   "execution_count": 8,
   "metadata": {},
   "outputs": [],
   "source": [
    "# jadikan kolom content dan score saja yang di csv\n",
    "data = data[['content', 'score']]\n",
    "data.to_csv('jobstreet_3000_selected3.csv', index=False)"
   ]
  },
  {
   "cell_type": "markdown",
   "metadata": {},
   "source": []
  }
 ],
 "metadata": {
  "kernelspec": {
   "display_name": "Python 3",
   "language": "python",
   "name": "python3"
  },
  "language_info": {
   "codemirror_mode": {
    "name": "ipython",
    "version": 3
   },
   "file_extension": ".py",
   "mimetype": "text/x-python",
   "name": "python",
   "nbconvert_exporter": "python",
   "pygments_lexer": "ipython3",
   "version": "3.13.0"
  }
 },
 "nbformat": 4,
 "nbformat_minor": 2
}
