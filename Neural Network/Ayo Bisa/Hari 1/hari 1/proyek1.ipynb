{
 "cells": [
  {
   "cell_type": "markdown",
   "metadata": {},
   "source": [
    "# Proyek 1: Klasifikasi Gambar menggunakan CNN"
   ]
  },
  {
   "cell_type": "markdown",
   "metadata": {},
   "source": [
    "## Deskripsi Proyek"
   ]
  },
  {
   "cell_type": "markdown",
   "metadata": {},
   "source": [
    "Dalam proyek ini, kamu akan membangun model Convolutional Neural Network (CNN) untuk mengklasifikasikan gambar-gambar. Salah satu dataset yang sering digunakan dalam tugas ini adalah CIFAR-10, yang berisi 60,000 gambar dalam 10 kategori berbeda, seperti pesawat terbang, mobil, burung, kucing, dll. Setiap gambar berukuran 32x32 piksel dan memiliki 3 saluran warna (RGB). Tujuan dari proyek ini adalah untuk membangun model CNN yang dapat mengklasifikasikan gambar ke dalam kategori yang benar edasarkan fitur-fitur yang diekstraksi dari gambar tersebut."
   ]
  },
  {
   "cell_type": "markdown",
   "metadata": {},
   "source": [
    "## Langkah-langkah Proyek"
   ]
  },
  {
   "cell_type": "markdown",
   "metadata": {},
   "source": [
    "### 1. Memuat Dataset"
   ]
  },
  {
   "cell_type": "markdown",
   "metadata": {},
   "source": [
    "Dataset CIFAR-10 dapat diunduh dari Keras Datasets. Dataset ini terbagi menjadi data pelatihan sebanyak 50,000 gambar dan data pengujian sebanyak 10,000 gambar."
   ]
  },
  {
   "cell_type": "markdown",
   "metadata": {},
   "source": [
    "### 2. Persiapan Data"
   ]
  },
  {
   "cell_type": "markdown",
   "metadata": {},
   "source": [
    "Preprocessing: Data gambar akan dinormalisasi (piksel gambar diubah ke rentang [0,1]) dan label akan dibuah ke format one-hot encoding untuk klasifikasi multi-kelas."
   ]
  },
  {
   "cell_type": "markdown",
   "metadata": {},
   "source": [
    "## 3. Membangun Model CNN"
   ]
  },
  {
   "cell_type": "markdown",
   "metadata": {},
   "source": [
    "- Convolutional Layers: Beberapa layer konvolusi digunakan untuk mengekstrasi fitur lokal dari gambar, seperti tepi, tekstur, dan pola.\n",
    "- Pooling Layers: Max-pooling digunakan untuk mengurangi dimensi data dan mempertahankan informasi penting.\n",
    "- Fully Connected Layers: Setelah ekstraksi fitur, gambar akan melewati beberapa layer dense (fully connected) yang akhirnya menghasilkan probabilitas kelas untuk setiap gambar.\n",
    "- Output Layer: Output layer menggunakan fungsi aktivasi softmax untuk menghasilkan distribusi probabilitas yang sesuai dengan 10 kelas."
   ]
  },
  {
   "cell_type": "markdown",
   "metadata": {},
   "source": [
    "### 4. Melatih Model"
   ]
  },
  {
   "cell_type": "markdown",
   "metadata": {},
   "source": [
    "- Fungsi Loss: Categorical cross-entropy digunakan sebagai fungsi loss untuk mengukur kesalahan antara prediksi model dan label asli\n",
    "- Optimizer: Adam dipilih optimizer untuk memperbarui bobot model selama pelatihan."
   ]
  },
  {
   "cell_type": "markdown",
   "metadata": {},
   "source": [
    "### 5. Evaluasi Model"
   ]
  },
  {
   "cell_type": "markdown",
   "metadata": {},
   "source": [
    "- Setelah melatih model, kita akan mengujinya menggunakan data pengujian untuk mengevaluasi akurasi model dan melihat seerapa baik model mengklasifikasikan gambar yang belum dilihat sebelumnya."
   ]
  },
  {
   "cell_type": "markdown",
   "metadata": {},
   "source": [
    "### 6. Visualiasi Hasil"
   ]
  },
  {
   "cell_type": "markdown",
   "metadata": {},
   "source": [
    "- Hasil Pelatihan (akurasi dan loss) akan divisualisasikan dalam bentuk grafik untuk memantau kinerja model.\n",
    "- Hasil prediksi model terhadap gambar-gambar uji juga akan divisualisasikan untuk melihat bagaimana model memprediksi kelas dari gambar yang berbeda."
   ]
  },
  {
   "cell_type": "markdown",
   "metadata": {},
   "source": [
    "### 7. Peningkatan Model"
   ]
  },
  {
   "cell_type": "markdown",
   "metadata": {},
   "source": [
    "- Teknik regularisasi seperti dropout dapat digunakan untuk mencegah overfitting.\n",
    "- Augmentasi Data dapat diterapkan untukk memperbesar dataset dan meningkatkan kemampuan generalisasi model"
   ]
  },
  {
   "cell_type": "markdown",
   "metadata": {},
   "source": [
    "## Alat yang digunakan"
   ]
  },
  {
   "cell_type": "markdown",
   "metadata": {},
   "source": [
    "- Python: Bahasa pemrograman untuk implementasi model.\n",
    "- TensorFlow/Keras: Framework deep learning untuk membangun dan melatih model CNN.\n",
    "- Matplotlib: Untuk visualisasi grafik pelatihan dan prediksi."
   ]
  },
  {
   "cell_type": "markdown",
   "metadata": {},
   "source": [
    "## Hasil yang diharapkan"
   ]
  },
  {
   "cell_type": "markdown",
   "metadata": {},
   "source": [
    "- Model CNN yang dapat mengklasifikasikan gambar-gambar dari dataset CIFAR-10 dengan akurasi tinggi.\n",
    "- Visualisasi yang menunjukkan progres pelatihan dan validasi.\n",
    "- Prediksi yang dapat dibandingkan dengan label sebenarnya untuk evaluasi kinerja model."
   ]
  },
  {
   "cell_type": "markdown",
   "metadata": {},
   "source": [
    "Proyek ini memberikan pemahaman yang lebih dalam tentang cara menggunakan Convolutional Neural Networks(CNNs) untuk tugas klasifikasi gambar, serta bagaimana menangani dataset yang lebih besar dan menantang."
   ]
  },
  {
   "cell_type": "code",
   "execution_count": 5,
   "metadata": {},
   "outputs": [
    {
     "name": "stdout",
     "output_type": "stream",
     "text": [
      "Requirement already satisfied: tensorflow in c:\\users\\anfiniti\\codes\\anfipy\\.venv\\lib\\site-packages (2.18.0)\n",
      "Requirement already satisfied: tensorflow-intel==2.18.0 in c:\\users\\anfiniti\\codes\\anfipy\\.venv\\lib\\site-packages (from tensorflow) (2.18.0)\n",
      "Requirement already satisfied: absl-py>=1.0.0 in c:\\users\\anfiniti\\codes\\anfipy\\.venv\\lib\\site-packages (from tensorflow-intel==2.18.0->tensorflow) (2.1.0)\n",
      "Requirement already satisfied: astunparse>=1.6.0 in c:\\users\\anfiniti\\codes\\anfipy\\.venv\\lib\\site-packages (from tensorflow-intel==2.18.0->tensorflow) (1.6.3)\n",
      "Requirement already satisfied: flatbuffers>=24.3.25 in c:\\users\\anfiniti\\codes\\anfipy\\.venv\\lib\\site-packages (from tensorflow-intel==2.18.0->tensorflow) (24.3.25)\n",
      "Requirement already satisfied: gast!=0.5.0,!=0.5.1,!=0.5.2,>=0.2.1 in c:\\users\\anfiniti\\codes\\anfipy\\.venv\\lib\\site-packages (from tensorflow-intel==2.18.0->tensorflow) (0.6.0)\n",
      "Requirement already satisfied: google-pasta>=0.1.1 in c:\\users\\anfiniti\\codes\\anfipy\\.venv\\lib\\site-packages (from tensorflow-intel==2.18.0->tensorflow) (0.2.0)\n",
      "Requirement already satisfied: libclang>=13.0.0 in c:\\users\\anfiniti\\codes\\anfipy\\.venv\\lib\\site-packages (from tensorflow-intel==2.18.0->tensorflow) (18.1.1)\n",
      "Requirement already satisfied: opt-einsum>=2.3.2 in c:\\users\\anfiniti\\codes\\anfipy\\.venv\\lib\\site-packages (from tensorflow-intel==2.18.0->tensorflow) (3.4.0)\n",
      "Requirement already satisfied: packaging in c:\\users\\anfiniti\\codes\\anfipy\\.venv\\lib\\site-packages (from tensorflow-intel==2.18.0->tensorflow) (24.2)\n",
      "Requirement already satisfied: protobuf!=4.21.0,!=4.21.1,!=4.21.2,!=4.21.3,!=4.21.4,!=4.21.5,<6.0.0dev,>=3.20.3 in c:\\users\\anfiniti\\codes\\anfipy\\.venv\\lib\\site-packages (from tensorflow-intel==2.18.0->tensorflow) (5.29.1)\n",
      "Requirement already satisfied: requests<3,>=2.21.0 in c:\\users\\anfiniti\\codes\\anfipy\\.venv\\lib\\site-packages (from tensorflow-intel==2.18.0->tensorflow) (2.32.3)\n",
      "Requirement already satisfied: setuptools in c:\\users\\anfiniti\\codes\\anfipy\\.venv\\lib\\site-packages (from tensorflow-intel==2.18.0->tensorflow) (57.4.0)\n",
      "Requirement already satisfied: six>=1.12.0 in c:\\users\\anfiniti\\codes\\anfipy\\.venv\\lib\\site-packages (from tensorflow-intel==2.18.0->tensorflow) (1.17.0)\n",
      "Requirement already satisfied: termcolor>=1.1.0 in c:\\users\\anfiniti\\codes\\anfipy\\.venv\\lib\\site-packages (from tensorflow-intel==2.18.0->tensorflow) (2.5.0)\n",
      "Requirement already satisfied: typing-extensions>=3.6.6 in c:\\users\\anfiniti\\codes\\anfipy\\.venv\\lib\\site-packages (from tensorflow-intel==2.18.0->tensorflow) (4.12.2)\n",
      "Requirement already satisfied: wrapt>=1.11.0 in c:\\users\\anfiniti\\codes\\anfipy\\.venv\\lib\\site-packages (from tensorflow-intel==2.18.0->tensorflow) (1.17.0)\n",
      "Requirement already satisfied: grpcio<2.0,>=1.24.3 in c:\\users\\anfiniti\\codes\\anfipy\\.venv\\lib\\site-packages (from tensorflow-intel==2.18.0->tensorflow) (1.68.1)\n",
      "Requirement already satisfied: tensorboard<2.19,>=2.18 in c:\\users\\anfiniti\\codes\\anfipy\\.venv\\lib\\site-packages (from tensorflow-intel==2.18.0->tensorflow) (2.18.0)\n",
      "Requirement already satisfied: keras>=3.5.0 in c:\\users\\anfiniti\\codes\\anfipy\\.venv\\lib\\site-packages (from tensorflow-intel==2.18.0->tensorflow) (3.7.0)\n",
      "Requirement already satisfied: numpy<2.1.0,>=1.26.0 in c:\\users\\anfiniti\\codes\\anfipy\\.venv\\lib\\site-packages (from tensorflow-intel==2.18.0->tensorflow) (2.0.2)\n",
      "Requirement already satisfied: h5py>=3.11.0 in c:\\users\\anfiniti\\codes\\anfipy\\.venv\\lib\\site-packages (from tensorflow-intel==2.18.0->tensorflow) (3.12.1)\n",
      "Requirement already satisfied: ml-dtypes<0.5.0,>=0.4.0 in c:\\users\\anfiniti\\codes\\anfipy\\.venv\\lib\\site-packages (from tensorflow-intel==2.18.0->tensorflow) (0.4.1)\n",
      "Requirement already satisfied: tensorflow-io-gcs-filesystem>=0.23.1 in c:\\users\\anfiniti\\codes\\anfipy\\.venv\\lib\\site-packages (from tensorflow-intel==2.18.0->tensorflow) (0.31.0)\n",
      "Requirement already satisfied: wheel<1.0,>=0.23.0 in c:\\users\\anfiniti\\codes\\anfipy\\.venv\\lib\\site-packages (from astunparse>=1.6.0->tensorflow-intel==2.18.0->tensorflow) (0.45.1)\n",
      "Requirement already satisfied: rich in c:\\users\\anfiniti\\codes\\anfipy\\.venv\\lib\\site-packages (from keras>=3.5.0->tensorflow-intel==2.18.0->tensorflow) (13.9.4)\n",
      "Requirement already satisfied: namex in c:\\users\\anfiniti\\codes\\anfipy\\.venv\\lib\\site-packages (from keras>=3.5.0->tensorflow-intel==2.18.0->tensorflow) (0.0.8)\n",
      "Requirement already satisfied: optree in c:\\users\\anfiniti\\codes\\anfipy\\.venv\\lib\\site-packages (from keras>=3.5.0->tensorflow-intel==2.18.0->tensorflow) (0.13.1)\n",
      "Requirement already satisfied: charset-normalizer<4,>=2 in c:\\users\\anfiniti\\codes\\anfipy\\.venv\\lib\\site-packages (from requests<3,>=2.21.0->tensorflow-intel==2.18.0->tensorflow) (3.4.0)\n",
      "Requirement already satisfied: idna<4,>=2.5 in c:\\users\\anfiniti\\codes\\anfipy\\.venv\\lib\\site-packages (from requests<3,>=2.21.0->tensorflow-intel==2.18.0->tensorflow) (3.10)\n",
      "Requirement already satisfied: urllib3<3,>=1.21.1 in c:\\users\\anfiniti\\codes\\anfipy\\.venv\\lib\\site-packages (from requests<3,>=2.21.0->tensorflow-intel==2.18.0->tensorflow) (2.2.3)\n",
      "Requirement already satisfied: certifi>=2017.4.17 in c:\\users\\anfiniti\\codes\\anfipy\\.venv\\lib\\site-packages (from requests<3,>=2.21.0->tensorflow-intel==2.18.0->tensorflow) (2024.8.30)\n",
      "Requirement already satisfied: markdown>=2.6.8 in c:\\users\\anfiniti\\codes\\anfipy\\.venv\\lib\\site-packages (from tensorboard<2.19,>=2.18->tensorflow-intel==2.18.0->tensorflow) (3.7)\n",
      "Requirement already satisfied: tensorboard-data-server<0.8.0,>=0.7.0 in c:\\users\\anfiniti\\codes\\anfipy\\.venv\\lib\\site-packages (from tensorboard<2.19,>=2.18->tensorflow-intel==2.18.0->tensorflow) (0.7.2)\n",
      "Requirement already satisfied: werkzeug>=1.0.1 in c:\\users\\anfiniti\\codes\\anfipy\\.venv\\lib\\site-packages (from tensorboard<2.19,>=2.18->tensorflow-intel==2.18.0->tensorflow) (3.1.3)\n",
      "Requirement already satisfied: MarkupSafe>=2.1.1 in c:\\users\\anfiniti\\codes\\anfipy\\.venv\\lib\\site-packages (from werkzeug>=1.0.1->tensorboard<2.19,>=2.18->tensorflow-intel==2.18.0->tensorflow) (3.0.2)\n",
      "Requirement already satisfied: markdown-it-py>=2.2.0 in c:\\users\\anfiniti\\codes\\anfipy\\.venv\\lib\\site-packages (from rich->keras>=3.5.0->tensorflow-intel==2.18.0->tensorflow) (3.0.0)\n",
      "Requirement already satisfied: pygments<3.0.0,>=2.13.0 in c:\\users\\anfiniti\\codes\\anfipy\\.venv\\lib\\site-packages (from rich->keras>=3.5.0->tensorflow-intel==2.18.0->tensorflow) (2.18.0)\n",
      "Requirement already satisfied: mdurl~=0.1 in c:\\users\\anfiniti\\codes\\anfipy\\.venv\\lib\\site-packages (from markdown-it-py>=2.2.0->rich->keras>=3.5.0->tensorflow-intel==2.18.0->tensorflow) (0.1.2)\n",
      "Note: you may need to restart the kernel to use updated packages.\n"
     ]
    }
   ],
   "source": [
    "%pip install tensorflow"
   ]
  },
  {
   "cell_type": "code",
   "execution_count": 6,
   "metadata": {},
   "outputs": [
    {
     "name": "stdout",
     "output_type": "stream",
     "text": [
      "Epoch 1/10\n",
      "\u001b[1m782/782\u001b[0m \u001b[32m━━━━━━━━━━━━━━━━━━━━\u001b[0m\u001b[37m\u001b[0m \u001b[1m38s\u001b[0m 46ms/step - accuracy: 0.3346 - loss: 1.7932 - val_accuracy: 0.5373 - val_loss: 1.3108\n",
      "Epoch 2/10\n",
      "\u001b[1m782/782\u001b[0m \u001b[32m━━━━━━━━━━━━━━━━━━━━\u001b[0m\u001b[37m\u001b[0m \u001b[1m33s\u001b[0m 42ms/step - accuracy: 0.5503 - loss: 1.2568 - val_accuracy: 0.6012 - val_loss: 1.1292\n",
      "Epoch 3/10\n",
      "\u001b[1m782/782\u001b[0m \u001b[32m━━━━━━━━━━━━━━━━━━━━\u001b[0m\u001b[37m\u001b[0m \u001b[1m33s\u001b[0m 42ms/step - accuracy: 0.6206 - loss: 1.0797 - val_accuracy: 0.6425 - val_loss: 1.0236\n",
      "Epoch 4/10\n",
      "\u001b[1m782/782\u001b[0m \u001b[32m━━━━━━━━━━━━━━━━━━━━\u001b[0m\u001b[37m\u001b[0m \u001b[1m33s\u001b[0m 42ms/step - accuracy: 0.6617 - loss: 0.9679 - val_accuracy: 0.6318 - val_loss: 1.0393\n",
      "Epoch 5/10\n",
      "\u001b[1m782/782\u001b[0m \u001b[32m━━━━━━━━━━━━━━━━━━━━\u001b[0m\u001b[37m\u001b[0m \u001b[1m33s\u001b[0m 42ms/step - accuracy: 0.6901 - loss: 0.8921 - val_accuracy: 0.6648 - val_loss: 0.9462\n",
      "Epoch 6/10\n",
      "\u001b[1m782/782\u001b[0m \u001b[32m━━━━━━━━━━━━━━━━━━━━\u001b[0m\u001b[37m\u001b[0m \u001b[1m33s\u001b[0m 42ms/step - accuracy: 0.7098 - loss: 0.8279 - val_accuracy: 0.6855 - val_loss: 0.9134\n",
      "Epoch 7/10\n",
      "\u001b[1m782/782\u001b[0m \u001b[32m━━━━━━━━━━━━━━━━━━━━\u001b[0m\u001b[37m\u001b[0m \u001b[1m33s\u001b[0m 42ms/step - accuracy: 0.7291 - loss: 0.7799 - val_accuracy: 0.7067 - val_loss: 0.8493\n",
      "Epoch 8/10\n",
      "\u001b[1m782/782\u001b[0m \u001b[32m━━━━━━━━━━━━━━━━━━━━\u001b[0m\u001b[37m\u001b[0m \u001b[1m33s\u001b[0m 42ms/step - accuracy: 0.7406 - loss: 0.7345 - val_accuracy: 0.6997 - val_loss: 0.8846\n",
      "Epoch 9/10\n",
      "\u001b[1m782/782\u001b[0m \u001b[32m━━━━━━━━━━━━━━━━━━━━\u001b[0m\u001b[37m\u001b[0m \u001b[1m36s\u001b[0m 46ms/step - accuracy: 0.7571 - loss: 0.6974 - val_accuracy: 0.7065 - val_loss: 0.8619\n",
      "Epoch 10/10\n",
      "\u001b[1m782/782\u001b[0m \u001b[32m━━━━━━━━━━━━━━━━━━━━\u001b[0m\u001b[37m\u001b[0m \u001b[1m37s\u001b[0m 48ms/step - accuracy: 0.7722 - loss: 0.6536 - val_accuracy: 0.7155 - val_loss: 0.8346\n",
      "\u001b[1m313/313\u001b[0m \u001b[32m━━━━━━━━━━━━━━━━━━━━\u001b[0m\u001b[37m\u001b[0m \u001b[1m3s\u001b[0m 11ms/step - accuracy: 0.7186 - loss: 0.8361\n",
      "Test accuracy: 0.7155\n"
     ]
    },
    {
     "data": {
      "image/png": "[encoded data removed]",
      "text/plain": [
       "<Figure size 640x480 with 1 Axes>"
      ]
     },
     "metadata": {},
     "output_type": "display_data"
    }
   ],
   "source": [
    "import tensorflow as tf\n",
    "from tensorflow.keras import layers, models\n",
    "import matplotlib.pyplot as plt\n",
    "from tensorflow.keras.datasets import cifar10\n",
    "from tensorflow.keras.utils import to_categorical\n",
    "\n",
    "# 1. Memuat Dataset CIFAR-10\n",
    "(x_train, y_train), (x_test, y_test) = cifar10.load_data()\n",
    "\n",
    "# 2. Normalisasi data (nilai piksel gambar ke rentang [0. 1])\n",
    "x_train, x_test = x_train / 255.0, x_test /255.0\n",
    "\n",
    "# 3. Mengubah label menjadi format one-hot encoding\n",
    "y_train = to_categorical(y_train, 10)\n",
    "y_test = to_categorical(y_test, 10)\n",
    "\n",
    "# 4. Membangun Model CNN\n",
    "model = models.Sequential()\n",
    "\n",
    "# Layer konvolusi pertama\n",
    "model.add(layers.Conv2D(32, (3, 3), activation='relu', input_shape=(32, 32, 3)))\n",
    "model.add(layers.MaxPooling2D((2, 2)))\n",
    "\n",
    "# Layer konvolusi kedua\n",
    "model.add(layers.Conv2D(64, (3, 3), activation='relu'))\n",
    "model.add(layers.MaxPooling2D((2, 2)))\n",
    "\n",
    "# Layer konvolusi ketiga\n",
    "model.add(layers.Conv2D(64, (3, 3), activation='relu'))\n",
    "\n",
    "# Flatten layer sebelum input ke fully connected layer\n",
    "model.add(layers.Flatten())\n",
    "\n",
    "# Fully connected layer pertama\n",
    "model.add(layers.Dense(64, activation='relu'))\n",
    "\n",
    "# Output layer dengan softmax\n",
    "model.add(layers.Dense(10, activation=\"softmax\"))\n",
    "\n",
    "# 5. Menyusun Model\n",
    "model.compile(optimizer='adam', loss='categorical_crossentropy', metrics=['accuracy'])\n",
    "\n",
    "# 6. Melatih Model\n",
    "history = model.fit(x_train, y_train, epochs=10, batch_size=64, validation_data=(x_test, y_test))\n",
    "\n",
    "# 7. Evaluasi Model\n",
    "test_loss, test_acc = model.evaluate(x_test, y_test)\n",
    "print(f'Test accuracy: {test_acc:.4f}')\n",
    "\n",
    "# 8. Visualisasi Hasil Pelatihan\n",
    "plt.plot(history.history['accuracy'], label='Training accuracy')\n",
    "plt.plot(history.history['val_accuracy'], label='Validation accuracy')\n",
    "plt.xlabel('Epoch')\n",
    "plt.ylabel('Accuracy')\n",
    "plt.legend()\n",
    "plt.show()"
   ]
  },
  {
   "cell_type": "code",
   "execution_count": 11,
   "metadata": {},
   "outputs": [
    {
     "data": {
      "image/png": "[encoded data removed]",
      "text/plain": [
       "<Figure size 640x480 with 1 Axes>"
      ]
     },
     "metadata": {},
     "output_type": "display_data"
    },
    {
     "name": "stdout",
     "output_type": "stream",
     "text": [
      "\u001b[1m1/1\u001b[0m \u001b[32m━━━━━━━━━━━━━━━━━━━━\u001b[0m\u001b[37m\u001b[0m \u001b[1m0s\u001b[0m 31ms/step\n",
      "Predicted label: 4\n"
     ]
    }
   ],
   "source": [
    "# 9. Prediksi Gambar dari Test Set\n",
    "import numpy as np\n",
    "\n",
    "# Ambil gambar pertama dari test set\n",
    "img = x_test[100]\n",
    "plt.imshow(img)\n",
    "plt.show()\n",
    "\n",
    "# Prediksi kelas gambar pertama\n",
    "img = np.expand_dims(img, axis=0) # Tambahkan dimensi batch\n",
    "predicted_class = model.predict(img)\n",
    "predicted_label = np.argmax(predicted_class, axis=1)\n",
    "\n",
    "# Cetak label prediksi\n",
    "print(f'Predicted label: {predicted_label[0]}')"
   ]
  },
  {
   "cell_type": "markdown",
   "metadata": {},
   "source": [
    "## Penjelasan Hasil Predicted label: 3"
   ]
  },
  {
   "cell_type": "markdown",
   "metadata": {},
   "source": [
    "Jika predicted label = 3 pada CIFAR-10, maka kategori gambar yang diprediksi adalah Cat (Kucing). Berikut urutan berdasarkan indexnya:\n",
    "- 0: Airplane (Pesawat Terbang)\n",
    "- 1: Automobile (Mobil)\n",
    "- 2: Bird (Burung)\n",
    "- 3: Cat (Kucing)\n",
    "- 4: Deer (Rusa)\n",
    "- 5: Dog (Anjing)\n",
    "- 6: Frog (Katak)\n",
    "- 7: Horse (Kuda)\n",
    "- 8: Ship (Kapal)\n",
    "- 9: Truck (Truk)"
   ]
  },
  {
   "cell_type": "markdown",
   "metadata": {},
   "source": [
    "## Penjelasan Kode"
   ]
  },
  {
   "cell_type": "markdown",
   "metadata": {},
   "source": [
    "### 1. Memuat dan mempersiapkan data"
   ]
  },
  {
   "cell_type": "markdown",
   "metadata": {},
   "source": [
    "- Dataset CIFAR-10 dimuat menggunakan cifar10.load_data(). Data pelatihan (x_train, y_train) dan data pengujian (x_test, y_test) akan dibagi.\n",
    "- Gambar dinormalisasi agar nilai piksel berada dalam rentang [0, 1].\n",
    "- Label (target) juga dikonversi ke dalam format one-hot encoding menggunakan to_categorical."
   ]
  },
  {
   "cell_type": "markdown",
   "metadata": {},
   "source": [
    "### 2. Membangun model CNN"
   ]
  },
  {
   "cell_type": "markdown",
   "metadata": {},
   "source": [
    "- Tiga layer konvolusi digunakan untuk mengekstraksi fitur dari gambar.\n",
    "- Setelah layer konvolusi, hasilnya diratakan (flatten) dan dilanjutkan dengan fully connected layer.\n",
    "- Output layer menggunakan fungsi aktivasi softmax untuk klasifikasi multi-kelas."
   ]
  },
  {
   "cell_type": "markdown",
   "metadata": {},
   "source": [
    "### 3. Melatih model"
   ]
  },
  {
   "cell_type": "markdown",
   "metadata": {},
   "source": [
    "- Model disusun dengan optimizer Adam dan fungsi loss categorical_crossentropy.\n",
    "- Model dilatih selama 10 epoch dengan batch size 64 dan data validasi menggunakan data pengujian.\n",
    "- Batch size 64 artinya misal 10.000 data, maka 10.000/64 = 156 batch."
   ]
  },
  {
   "cell_type": "markdown",
   "metadata": {},
   "source": [
    "### 4. Evaluasi dan visualisasi"
   ]
  },
  {
   "cell_type": "markdown",
   "metadata": {},
   "source": [
    "- Setelah pelatihan, akurasi pada data pengujian diukur dan ditampilkan.\n",
    "- Hasil pelatihan (akurasi pelatihan dan validasi) divisualisasikan dalam bentuk grafik."
   ]
  },
  {
   "cell_type": "markdown",
   "metadata": {},
   "source": [
    "### 5. Prediksi"
   ]
  },
  {
   "cell_type": "markdown",
   "metadata": {},
   "source": [
    "- Model digunakan untuk memprediksi kelas dari gambar uji pertama. Gambar yang dipilih ditampilkan dan label prediksi dicetak."
   ]
  }
 ],
 "metadata": {
  "kernelspec": {
   "display_name": ".venv",
   "language": "python",
   "name": "python3"
  },
  "language_info": {
   "codemirror_mode": {
    "name": "ipython",
    "version": 3
   },
   "file_extension": ".py",
   "mimetype": "text/x-python",
   "name": "python",
   "nbconvert_exporter": "python",
   "pygments_lexer": "ipython3",
   "version": "3.10.0"
  }
 },
 "nbformat": 4,
 "nbformat_minor": 2
}
