{
 "cells": [
  {
   "cell_type": "markdown",
   "metadata": {},
   "source": [
    "# Proyek 3: Deteksi Emosi dalam Teks dengan Neural Network"
   ]
  },
  {
   "cell_type": "markdown",
   "metadata": {},
   "source": [
    "## Deskripsi Proyek"
   ]
  },
  {
   "cell_type": "markdown",
   "metadata": {},
   "source": [
    "Proyek ini menggunakan Neural Network untuk membangun model deteksi emosi (sentimen) dalam teks. Model ini akan menentukan apakah teks memiliki sentimen positif, negatif, atau netral. Kita akan menggunakan Recurrent Neural Network (RNN) dengan arsitektur seperti LSTM atau GRU, yang sangat cocok untuk memproses data teks."
   ]
  },
  {
   "cell_type": "markdown",
   "metadata": {},
   "source": [
    "## Langkah-langkah Proyek"
   ]
  },
  {
   "cell_type": "markdown",
   "metadata": {},
   "source": [
    "### 1. Mengimpor Library dan Dataset"
   ]
  },
  {
   "cell_type": "markdown",
   "metadata": {},
   "source": [
    "- Library yang dibutuhkan: pandas, numpy, tensorflow/keras, nltk.\n",
    "- Dataset: Gunakan dataset ulasan seperti IMDb Reviews (tersedia di Keras) atau dataset publik lainnya."
   ]
  },
  {
   "cell_type": "markdown",
   "metadata": {},
   "source": [
    "### 2. Pra-pemrosesan Data"
   ]
  },
  {
   "cell_type": "markdown",
   "metadata": {},
   "source": [
    "- Bersihkan teks dengan menghapus simbol, angka, dan karakter khusus.\n",
    "- Tokenisasi teks dan ubah menjadi indeks menggunakan tokenizer Keras.\n",
    "- Potong atau pad teks ke panjang maksimum tertentu (misalnya, 100 kata per teks)."
   ]
  },
  {
   "cell_type": "markdown",
   "metadata": {},
   "source": [
    "### 3. Representasi Data"
   ]
  },
  {
   "cell_type": "markdown",
   "metadata": {},
   "source": [
    "Gunakan Embedding Layer untuk mengubah indeks token menjadi representasi vektor densitas tinggi."
   ]
  },
  {
   "cell_type": "markdown",
   "metadata": {},
   "source": [
    "### 4. Arsitektur Model Neural Network"
   ]
  },
  {
   "cell_type": "markdown",
   "metadata": {},
   "source": [
    "- Gunakan lapisan Embedding sebagai input.\n",
    "- Tambahkan lapisan LSTM atau GRU untuk menangkap hubungan antar kata.\n",
    "- Tambahkan lapisan Dense untuk menghasilkan prediksi akhir."
   ]
  },
  {
   "cell_type": "markdown",
   "metadata": {},
   "source": [
    "### 5. Melatih Model"
   ]
  },
  {
   "cell_type": "markdown",
   "metadata": {},
   "source": [
    "- Split data menjadi train dan test.\n",
    "- Gunakan binary crossentropy (untuk dua kelas) atau categorical crossentropy (untuk multi-kelas) sebagai loss function.\n",
    "- Optimizer: Gunakan Adam untuk konvergensi yang lebih baik."
   ]
  },
  {
   "cell_type": "markdown",
   "metadata": {},
   "source": [
    "### 6. Evaluasi Model"
   ]
  },
  {
   "cell_type": "markdown",
   "metadata": {},
   "source": [
    "- Hitung metrik seperti akurasi, precision, recall, dan F1-score.\n",
    "- Visualisasikan akurasi dan loss selama pelatihan."
   ]
  },
  {
   "cell_type": "code",
   "execution_count": null,
   "metadata": {},
   "outputs": [
    {
     "name": "stderr",
     "output_type": "stream",
     "text": [
      "c:\\Users\\anfiniti\\Codes\\anfipy\\.venv\\lib\\site-packages\\keras\\src\\layers\\core\\embedding.py:90: UserWarning: Argument `input_length` is deprecated. Just remove it.\n",
      "  warnings.warn(\n"
     ]
    },
    {
     "name": "stdout",
     "output_type": "stream",
     "text": [
      "Epoch 1/5\n",
      "\u001b[1m391/391\u001b[0m \u001b[32m━━━━━━━━━━━━━━━━━━━━\u001b[0m\u001b[37m\u001b[0m \u001b[1m0s\u001b[0m 149ms/step - accuracy: 0.6815 - loss: 0.5574"
     ]
    }
   ],
   "source": [
    "import numpy as np\n",
    "import pandas as pd\n",
    "from tensorflow.keras.models import Sequential\n",
    "from tensorflow.keras.layers import Embedding, LSTM, Dense, Dropout, Bidirectional\n",
    "from tensorflow.keras.preprocessing.text import Tokenizer\n",
    "from tensorflow.keras.preprocessing.sequence import pad_sequences\n",
    "from sklearn.model_selection import train_test_split\n",
    "\n",
    "# Step 1: Load Dataset\n",
    "# Contoh dataset IMDb Reviews bawaan Keras\n",
    "from tensorflow.keras.datasets import imdb\n",
    "\n",
    "vocab_size = 10000 # Ukuran kosakata\n",
    "max_length = 100 # Panjang maksimum teks\n",
    "\n",
    "(x_train, y_train), (x_test, y_test) = imdb.load_data(num_words=vocab_size)\n",
    "\n",
    "# Step 2: Pad Sequences\n",
    "x_train = pad_sequences(x_train, maxlen=max_length, padding='post')\n",
    "x_test = pad_sequences(x_test, maxlen=max_length, padding='post')\n",
    "\n",
    "# Step 3: Bangun Model Neural Network\n",
    "model = Sequential([\n",
    "    Embedding(input_dim=vocab_size, output_dim=128, input_length=max_length),\n",
    "    Bidirectional(LSTM(64, return_sequences=True)), # LSTM dua arah\n",
    "    Dropout(0.3),\n",
    "    LSTM(64),\n",
    "    Dense(32, activation='relu'),\n",
    "    Dropout(0.3),\n",
    "    Dense(1, activation='sigmoid') # Untuk klasifikasi biner\n",
    "])\n",
    "\n",
    "model.compile(loss='binary_crossentropy', optimizer='adam', metrics=['accuracy'])\n",
    "\n",
    "# Step 4: Latih Model\n",
    "history = model.fit(x_train, y_train, epochs=5, batch_size=64, validation_data=(x_test, y_test))\n",
    "\n",
    "# Step 5: Evaluasi\n",
    "loss, accuracy = model.evaluate(x_test, y_test)\n",
    "print(f\"Akurasi Model: {accuracy:.2f}\")\n",
    "\n",
    "# Step 6: Visualisasi\n",
    "import matplotlib.pyplot as plt\n",
    "\n",
    "plt.plot(history.history['accuracy'], label='Training Accuracy')\n",
    "plt.plot(history.history['val_accuracy'], label='Validation Accuracy')\n",
    "plt.legend()\n",
    "plt.show()"
   ]
  },
  {
   "cell_type": "code",
   "execution_count": 16,
   "metadata": {},
   "outputs": [
    {
     "name": "stdout",
     "output_type": "stream",
     "text": [
      "Teks 1: critics they is you that isn't one will very to as itself with other and in of seen over landed for anyone of and br show's to whether from than out themselves history he name half some br of and odd was two most of mean for 1 any an boat she he should is thought frog but of script you not while history he heart to real at barrel but when from one bit then have two of script their with her nobody most that with wasn't to with armed acting watch an for with heartfelt film want an\n",
      "Label 1: 1\n",
      "\n",
      "Teks 2: makes this stretch and of solid it thought begins br senator and budget worthwhile though ok and awaiting for ever better were and diverse for budget look kicked any to of making it out and follows for effects show to show cast this family us scenes more it severe making senator to and finds tv tend to of emerged these thing wants but and an beckinsale cult as it is video do you david see scenery it in few those are of ship for with of wild to one is very work dark they don't do dvd with those them\n",
      "Label 2: 0\n",
      "\n",
      "Teks 3: date of wide they don't do that had with of hollywood br of my seeing fan this of pop out body shots in having because cause it's stick passing first were enjoys for from look seven sense from me and die in character as cuban issues but is you that isn't one song just is him less are strongly not are you that different just even by this of you there is eight when it part are film's love film's 80's was big also light don't and as it in character looked cinematography so stories is far br man acting\n",
      "Label 3: 0\n",
      "\n",
      "Teks 4: just and was can't compared condition film of and br united obviously are up obviously not other just and was and as true was least of and certainly lady poorly of setting produced and br refuse to make just have 2 which and of and dialog and br of frye say in can is you for it wasn't in singers as by it away plenty what have reason and are that willing that's have 2 which sister and of important br halfway to of took work 20 br similar more he good flower for hit at coming not see reputation\n",
      "Label 4: 1\n",
      "\n",
      "Teks 5: was with these unexpected sure little sure guy sure on was one your life was children in particularly only yes she sort is jerry but so stories them final known to have does such most that supposed imagination very moving antonioni only yes this was seconds for imagination on this of and to plays that nights to for supposed still been last fan always your bit that strong said clean knowing br theory to car masterpiece out in also show for film's was tale have flash but look part i'm film as to penelope is script hard br only acting\n",
      "Label 5: 0\n",
      "\n"
     ]
    }
   ],
   "source": [
    "# Mendapatkan kembali word index dari dataset IMDb\n",
    "word_index = imdb.get_word_index()\n",
    "reverse_word_index = {value: key for key, value in word_index.items()}\n",
    "\n",
    "# Fungsi untuk mendekode teks dari indeks\n",
    "def decode_review(text):\n",
    "    return ' '.join([reverse_word_index.get(i, '?') for i in text])\n",
    "\n",
    "# Menampilkan beberapa contoh data dari x_train dan y_train\n",
    "for i in range(5):\n",
    "    print(f\"Teks {i+1}: {decode_review(x_train[i])}\")\n",
    "    print(f\"Label {i+1}: {y_train[i]}\")\n",
    "    print()"
   ]
  },
  {
   "cell_type": "code",
   "execution_count": 17,
   "metadata": {},
   "outputs": [
    {
     "data": {
      "text/html": [
       "<div>\n",
       "<style scoped>\n",
       "    .dataframe tbody tr th:only-of-type {\n",
       "        vertical-align: middle;\n",
       "    }\n",
       "\n",
       "    .dataframe tbody tr th {\n",
       "        vertical-align: top;\n",
       "    }\n",
       "\n",
       "    .dataframe thead th {\n",
       "        text-align: right;\n",
       "    }\n",
       "</style>\n",
       "<table border=\"1\" class=\"dataframe\">\n",
       "  <thead>\n",
       "    <tr style=\"text-align: right;\">\n",
       "      <th></th>\n",
       "      <th>Review</th>\n",
       "      <th>Sentiment</th>\n",
       "    </tr>\n",
       "  </thead>\n",
       "  <tbody>\n",
       "    <tr>\n",
       "      <th>0</th>\n",
       "      <td>the wonder own as by is sequence i i and and t...</td>\n",
       "      <td>0</td>\n",
       "    </tr>\n",
       "    <tr>\n",
       "      <th>1</th>\n",
       "      <td>is telling program br silliness okay and to fr...</td>\n",
       "      <td>1</td>\n",
       "    </tr>\n",
       "    <tr>\n",
       "      <th>2</th>\n",
       "      <td>of rukh br for and expressing stunts black tha...</td>\n",
       "      <td>1</td>\n",
       "    </tr>\n",
       "    <tr>\n",
       "      <th>3</th>\n",
       "      <td>of killer this as on it deborah film about his...</td>\n",
       "      <td>0</td>\n",
       "    </tr>\n",
       "    <tr>\n",
       "      <th>4</th>\n",
       "      <td>minute each shirley completely to was several ...</td>\n",
       "      <td>1</td>\n",
       "    </tr>\n",
       "  </tbody>\n",
       "</table>\n",
       "</div>"
      ],
      "text/plain": [
       "                                              Review  Sentiment\n",
       "0  the wonder own as by is sequence i i and and t...          0\n",
       "1  is telling program br silliness okay and to fr...          1\n",
       "2  of rukh br for and expressing stunts black tha...          1\n",
       "3  of killer this as on it deborah film about his...          0\n",
       "4  minute each shirley completely to was several ...          1"
      ]
     },
     "execution_count": 17,
     "metadata": {},
     "output_type": "execute_result"
    }
   ],
   "source": [
    "import pandas as pd\n",
    "\n",
    "# Buat dataframe untuk data latih\n",
    "df_train = pd.DataFrame({'Review': [decode_review(x) for x in x_train], 'Sentiment': y_train})\n",
    "\n",
    "# Buat dataframe untuk data uji\n",
    "df_test = pd.DataFrame({'Review': [decode_review(x) for x in x_test], 'Sentiment': y_test})\n",
    "\n",
    "# Tampilkan beberapa baris dari dataframe latih\n",
    "df_train.head()\n",
    "\n",
    "# Tampilkan beberapa baris dari dataframe uji\n",
    "df_test.head()"
   ]
  },
  {
   "cell_type": "code",
   "execution_count": null,
   "metadata": {},
   "outputs": [
    {
     "ename": "NameError",
     "evalue": "name 'x_train' is not defined",
     "output_type": "error",
     "traceback": [
      "\u001b[1;31m---------------------------------------------------------------------------\u001b[0m",
      "\u001b[1;31mNameError\u001b[0m                                 Traceback (most recent call last)",
      "Cell \u001b[1;32mIn[1], line 2\u001b[0m\n\u001b[0;32m      1\u001b[0m \u001b[38;5;66;03m# Tampilkan jumlah kalimat yang dianalisis\u001b[39;00m\n\u001b[1;32m----> 2\u001b[0m jumlah_kalimat_train \u001b[38;5;241m=\u001b[39m \u001b[43mx_train\u001b[49m\u001b[38;5;241m.\u001b[39mshape[\u001b[38;5;241m0\u001b[39m]\n\u001b[0;32m      3\u001b[0m jumlah_kalimat_test \u001b[38;5;241m=\u001b[39m x_test\u001b[38;5;241m.\u001b[39mshape[\u001b[38;5;241m0\u001b[39m]\n\u001b[0;32m      5\u001b[0m \u001b[38;5;28mprint\u001b[39m(\u001b[38;5;124mf\u001b[39m\u001b[38;5;124m\"\u001b[39m\u001b[38;5;124mJumlah kalimat yang dianalisis dalam data latih: \u001b[39m\u001b[38;5;132;01m{\u001b[39;00mjumlah_kalimat_train\u001b[38;5;132;01m}\u001b[39;00m\u001b[38;5;124m\"\u001b[39m)\n",
      "\u001b[1;31mNameError\u001b[0m: name 'x_train' is not defined"
     ]
    }
   ],
   "source": [
    "# Tampilkan jumlah kalimat yang dianalisis\n",
    "jumlah_kalimat_train = x_train.shape[0]\n",
    "jumlah_kalimat_test = x_test.shape[0]\n",
    "\n",
    "print(f\"Jumlah kalimat yang dianalisis dalam data latih: {jumlah_kalimat_train}\")\n",
    "print(f\"Jumlah kalimat yang dianalisis dalam data uji: {jumlah_kalimat_test}\")\n",
    "print(\"Label 1 artinya: Ulasan Positif\")\n",
    "print(\"Label 0 artinya: Ulasan Negatif\")"
   ]
  },
  {
   "cell_type": "code",
   "execution_count": 20,
   "metadata": {},
   "outputs": [
    {
     "data": {
      "image/png": "[encoded data removed]",
      "text/plain": [
       "<Figure size 1000x600 with 1 Axes>"
      ]
     },
     "metadata": {},
     "output_type": "display_data"
    }
   ],
   "source": [
    "import matplotlib.pyplot as plt\n",
    "\n",
    "# Data akurasi pelatihan dan validasi\n",
    "train_accuracy = history.history['accuracy']\n",
    "val_accuracy = history.history['val_accuracy']\n",
    "epochs = range(1, len(train_accuracy) + 1)\n",
    "\n",
    "# Membuat barplot\n",
    "plt.figure(figsize=(10, 6))\n",
    "plt.bar(epochs, train_accuracy, width=0.4, label='Training Accuracy', align='center')\n",
    "plt.bar([epoch + 0.4 for epoch in epochs], val_accuracy, width=0.4, label='Validation Accuracy', align='center')\n",
    "\n",
    "plt.xlabel('Epochs')\n",
    "plt.ylabel('Accuracy')\n",
    "plt.title('Training and Validation Accuracy per Epoch')\n",
    "plt.legend()\n",
    "plt.show()"
   ]
  },
  {
   "cell_type": "code",
   "execution_count": 21,
   "metadata": {},
   "outputs": [
    {
     "data": {
      "image/png": "[encoded data removed]",
      "text/plain": [
       "<Figure size 640x480 with 2 Axes>"
      ]
     },
     "metadata": {},
     "output_type": "display_data"
    }
   ],
   "source": [
    "# Calculate the number of positive and negative reviews in the test dataset\n",
    "num_positive_test = sum(y_test)\n",
    "num_negative_test = len(y_test) - num_positive_test\n",
    "\n",
    "# Calculate the percentages\n",
    "percent_positive_test = (num_positive_test / len(y_test)) * 100\n",
    "percent_negative_test = (num_negative_test / len(y_test)) * 100\n",
    "\n",
    "# Create the bar plot\n",
    "labels_test = ['Positive', 'Negative']\n",
    "counts_test = [num_positive_test, num_negative_test]\n",
    "percentages_test = [percent_positive_test, percent_negative_test]\n",
    "\n",
    "fig_test, ax1_test = plt.subplots()\n",
    "\n",
    "ax2_test = ax1_test.twinx()\n",
    "ax1_test.bar(labels_test, counts_test, color='g')\n",
    "ax2_test.plot(labels_test, percentages_test, color='b', marker='o')\n",
    "\n",
    "ax1_test.set_xlabel('Review Sentiment')\n",
    "ax1_test.set_ylabel('Count', color='g')\n",
    "ax2_test.set_ylabel('Percentage', color='b')\n",
    "\n",
    "plt.title('Number and Percentage of Positive and Negative Reviews (Test Data)')\n",
    "plt.show()\n"
   ]
  },
  {
   "cell_type": "markdown",
   "metadata": {},
   "source": [
    "## Hasil"
   ]
  },
  {
   "cell_type": "markdown",
   "metadata": {},
   "source": [
    "1. Akurasi Model: Model akan mencapai akurasi yang baik (biasanya di atas 80%) pada dataset sederhana seperti IMDb Reviews.\n",
    "2. Visualisasi: Grafik menunjukkan bagaiman akurasi meningkat dan loss menurun seiring dengan epoch.\n",
    "\n",
    "Kita dapat mengadaptasi proyek ini untuk multi-kelas (misalnya, deteksi emosi seperti senang, marah, sedih) dengan mengganti fungsi aktivasi output menjadi softmax dan menggunakan categorical crossentropy sebagai loss function."
   ]
  },
  {
   "cell_type": "markdown",
   "metadata": {},
   "source": [
    "## Penjelasan Kode"
   ]
  },
  {
   "cell_type": "markdown",
   "metadata": {},
   "source": [
    "### 1. Mengimpor Library dan Dataset"
   ]
  },
  {
   "cell_type": "markdown",
   "metadata": {},
   "source": [
    "- tensorflow.keras: Digunakan untuk membangun dan melatih model neural network\n",
    "- Sequential: Model linear dimana lapisan ditambahkan satu per satu.\n",
    "- Embedding: Lapisan untuk mengubah kata (indeks) menjadi vektor numerik densitas tinggi.\n",
    "- LSTM: Jenis Recurrent Neural Network (RNN) yang dirancang untuk menangkap hubungan dalam data urut.\n",
    "- Droput: Lapisan untuk mencegah overfitting dengan menghilangkan beberapa hubungan dalam data urut.\n",
    "- imdb.load_data(): Mengimpo dataset IMDb Review bawaan Keras."
   ]
  },
  {
   "cell_type": "markdown",
   "metadata": {},
   "source": [
    "### 2. Parameter Dataset"
   ]
  },
  {
   "cell_type": "markdown",
   "metadata": {},
   "source": [
    "- vocab_size = 10000: Hanya 10,000 kata paling sering digunakan di dataset.\n",
    "- max_length = 100: Membatasi panjang setiap ulasan hingga maksimal 100 kata.\n",
    "- imdb.load_data(num_words=vocab_size): Mengimpor data IMDb (ulasan film):\n",
    "    - x_train: Ulasan film dalam bentuk token angka (setiap angka merepresentasikan kata).\n",
    "    - y_train: Label sentimen (0 = negatif, 1 = positf)."
   ]
  },
  {
   "cell_type": "markdown",
   "metadata": {},
   "source": [
    "### 3. Memastikan Panjang Data Konsisten"
   ]
  },
  {
   "cell_type": "markdown",
   "metadata": {},
   "source": [
    "- pad_sequences: Memastikan semua ulasan memiliki panjang yang sama dengan max_length (100 kata).\n",
    "    - padding='post': jika ulasan pendek dari 100 kata, tambahkan padding di akhir."
   ]
  },
  {
   "cell_type": "markdown",
   "metadata": {},
   "source": [
    "### 4. Membuat Model Neural Network"
   ]
  },
  {
   "cell_type": "markdown",
   "metadata": {},
   "source": [
    "- Embedding: Lapisan untuk mengubah token angka menjadi vektor numerik (dimensi 128).\n",
    "- Bidirectional (LSTM):\n",
    "    - LSTM (Long Short-Term Memory): Menangkap hubungan urutan dalam data.\n",
    "    - Bidirectional: Memproses urutan teks dari kedua arah (maju dan mundur).\n",
    "    - return_sequences=True: Mengembalikan urutan output dari semua langkah waktu (berguna untuk model berlapis).\n",
    "- Dropout(0.3): Menghilangkan 30% neuron secara acak untuk mencegah overfitting.\n",
    "- Dense(32, activation='relu'): Lapisan feed-forward dengan 32 neuron dan fungsi aktivasi ReLU.\n",
    "- Dense(1, activation='sigmoid'): Lapisan output dengan satu neuron (untuk klasifikasi biner) dan fungsi aktivasi sigmoid."
   ]
  },
  {
   "cell_type": "markdown",
   "metadata": {},
   "source": [
    "### 5. Melatih Model"
   ]
  },
  {
   "cell_type": "markdown",
   "metadata": {},
   "source": [
    "- binary_crossentropy: Fungsi loss untuk klasifikasi biner.\n",
    "- optimizer='adam': Optimizer yang efisien untuk mempercepat konvergensi (menuju pusat).\n",
    "- metrics=['accuracy']: Metrik evaluasi selama pelatihan.\n",
    "- epochs=5: Jumlah iterasi penuh melalui dataset.\n",
    "- batch_size=64: Memproses 64 contoh data sekaligus selama pelatihan."
   ]
  },
  {
   "cell_type": "markdown",
   "metadata": {},
   "source": [
    "### 6. Evaluasi Model"
   ]
  },
  {
   "cell_type": "markdown",
   "metadata": {},
   "source": [
    "- model.evaluate: Mengukur loss dan akurasi model pada data uji.\n",
    "- Output akurasi ditampilkan dengan format 2 desimal."
   ]
  },
  {
   "cell_type": "markdown",
   "metadata": {},
   "source": [
    "### 7. Visualisasi Hasil Pelatihan"
   ]
  },
  {
   "cell_type": "markdown",
   "metadata": {},
   "source": [
    "- history.history: Menyimpan data akurasi dan loss selama pelatihan.\n",
    "- Grafik membantu menganalisis apakah model mengalami overfitting atau underfitting."
   ]
  },
  {
   "cell_type": "markdown",
   "metadata": {},
   "source": [
    "### Output"
   ]
  },
  {
   "cell_type": "markdown",
   "metadata": {},
   "source": [
    "1. Akurasi: Model akan memberikan akurasi pada data uji, misalnya 88%.\n",
    "2. Grafik Akurasi: Menunjukkan tren akurasi dan validasi dari waktu ke waktu (per epoch)."
   ]
  },
  {
   "cell_type": "markdown",
   "metadata": {},
   "source": []
  }
 ],
 "metadata": {
  "kernelspec": {
   "display_name": ".venv",
   "language": "python",
   "name": "python3"
  },
  "language_info": {
   "codemirror_mode": {
    "name": "ipython",
    "version": 3
   },
   "file_extension": ".py",
   "mimetype": "text/x-python",
   "name": "python",
   "nbconvert_exporter": "python",
   "pygments_lexer": "ipython3",
   "version": "3.10.0"
  }
 },
 "nbformat": 4,
 "nbformat_minor": 2
}
