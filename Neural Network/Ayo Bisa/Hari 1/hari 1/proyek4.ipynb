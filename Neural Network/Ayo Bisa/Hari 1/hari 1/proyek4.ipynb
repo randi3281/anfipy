{
 "cells": [
  {
   "cell_type": "markdown",
   "metadata": {},
   "source": [
    "# Proyek 4: Sistem Rekomendasi Film Menggunakan Neural Network"
   ]
  },
  {
   "cell_type": "markdown",
   "metadata": {},
   "source": [
    "## Deskripsi Proyek"
   ]
  },
  {
   "cell_type": "markdown",
   "metadata": {},
   "source": [
    "Proyek ini bertujuan untuk membangun sistem rekomendasi film yang memberikan saran kepada pengguna berdasarkan preferensi mereka. Sistem rekomendasi akan menggunakan teknik Collaborative Filtering dengan pendekatan Neural Network untuk memprediksi rating film yang belum diberikan oleh pengguna, kemudian merekomendasikan film dengan prediksi tertinggi."
   ]
  },
  {
   "cell_type": "markdown",
   "metadata": {},
   "source": [
    "## Langkah-langkah Proyek"
   ]
  },
  {
   "cell_type": "markdown",
   "metadata": {},
   "source": [
    "### 1. Dataset"
   ]
  },
  {
   "cell_type": "markdown",
   "metadata": {},
   "source": [
    "Gunakan dataset publik seperti MovieLens (tersedia di Kaggle atau dari situs resminya). Dataset ini berisi data pengguna, film, dan rating."
   ]
  },
  {
   "cell_type": "markdown",
   "metadata": {},
   "source": [
    "### 2. Pendekatan"
   ]
  },
  {
   "cell_type": "markdown",
   "metadata": {},
   "source": [
    "- Gunakan teknik Collaborative Filtering, yaitu memanfaatkan interkasi pengguna (rating) untuk memebuat rekomendasi.\n",
    "- Representasikan data dalam format matrix factorization, dimana pengguna dan film direpresentasikan sebagai vektor fitur."
   ]
  },
  {
   "cell_type": "markdown",
   "metadata": {},
   "source": [
    "### 3. Model"
   ]
  },
  {
   "cell_type": "markdown",
   "metadata": {},
   "source": [
    "- Bangun Neural Network untuk memprediksi rating yang diberikan pengguna pada film.\n",
    "- Model akan menggunakan embedding untuk merepresentasikan pengguna dan film dalam ruang dimensi rendah."
   ]
  },
  {
   "cell_type": "markdown",
   "metadata": {},
   "source": [
    "### 4. Evaluasi"
   ]
  },
  {
   "cell_type": "markdown",
   "metadata": {},
   "source": [
    "Gunakan metrik seperti Mean Squared Error (MSE) untuk mengukur akurasi prediksi rating."
   ]
  },
  {
   "cell_type": "markdown",
   "metadata": {},
   "source": []
  }
 ],
 "metadata": {
  "kernelspec": {
   "display_name": ".venv",
   "language": "python",
   "name": "python3"
  },
  "language_info": {
   "name": "python",
   "version": "3.10.0"
  }
 },
 "nbformat": 4,
 "nbformat_minor": 2
}
