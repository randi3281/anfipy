{
 "cells": [
  {
   "cell_type": "markdown",
   "metadata": {},
   "source": [
    "# Prediksi"
   ]
  },
  {
   "cell_type": "code",
   "execution_count": 45,
   "metadata": {},
   "outputs": [
    {
     "name": "stdout",
     "output_type": "stream",
     "text": [
      "\u001b[1m1/1\u001b[0m \u001b[32m━━━━━━━━━━━━━━━━━━━━\u001b[0m\u001b[37m\u001b[0m \u001b[1m0s\u001b[0m 63ms/step\n",
      "[[1.274997 ]\n",
      " [1.9755024]\n",
      " [2.630035 ]\n",
      " [3.2656996]\n",
      " [3.9013636]]\n"
     ]
    }
   ],
   "source": [
    "import numpy as np\n",
    "from tensorflow.keras.models import Sequential\n",
    "from tensorflow.keras.layers import Dense\n",
    "\n",
    "# Membuat data contoh\n",
    "# Misalkan kita memiliki data input X dan output Y\n",
    "X = np.array([[1, 2], [2, 3], [3, 4], [4, 5], [5, 6]])\n",
    "Y = np.array([3, 5, 7, 9, 11])\n",
    "\n",
    "# Membuat model neural network\n",
    "model = Sequential()\n",
    "model.add(Dense(10, input_dim=2, activation='relu'))\n",
    "model.add(Dense(1))\n",
    "\n",
    "# Compile model\n",
    "model.compile(optimizer='adam', loss='mean_squared_error')\n",
    "\n",
    "# Melatih model\n",
    "model.fit(X, Y, epochs=100, verbose=1)\n",
    "\n",
    "# Membuat prediksi\n",
    "prediksi = model.predict(X)\n",
    "print(prediksi)"
   ]
  },
  {
   "cell_type": "code",
   "execution_count": 46,
   "metadata": {},
   "outputs": [
    {
     "name": "stdout",
     "output_type": "stream",
     "text": [
      "[[1]\n",
      " [2]\n",
      " [3]\n",
      " [3]\n",
      " [4]]\n"
     ]
    }
   ],
   "source": [
    "prediksi_bulat = np.round(prediksi).astype(int)\n",
    "print(prediksi_bulat)"
   ]
  },
  {
   "cell_type": "code",
   "execution_count": 50,
   "metadata": {},
   "outputs": [
    {
     "name": "stdout",
     "output_type": "stream",
     "text": [
      "\u001b[1m1/1\u001b[0m \u001b[32m━━━━━━━━━━━━━━━━━━━━\u001b[0m\u001b[37m\u001b[0m \u001b[1m0s\u001b[0m 37ms/step\n",
      "[[4.0815525]]\n",
      "[[4]]\n"
     ]
    }
   ],
   "source": [
    "X_baru = np.array([[6, 6]])\n",
    "prediksi_baru = model.predict(X_baru)\n",
    "print(prediksi_baru)\n",
    "prediksi_bulat = np.round(prediksi_baru).astype(int)\n",
    "print(prediksi_bulat)"
   ]
  }
 ],
 "metadata": {
  "kernelspec": {
   "display_name": ".venv",
   "language": "python",
   "name": "python3"
  },
  "language_info": {
   "codemirror_mode": {
    "name": "ipython",
    "version": 3
   },
   "file_extension": ".py",
   "mimetype": "text/x-python",
   "name": "python",
   "nbconvert_exporter": "python",
   "pygments_lexer": "ipython3",
   "version": "3.10.0"
  }
 },
 "nbformat": 4,
 "nbformat_minor": 2
}
