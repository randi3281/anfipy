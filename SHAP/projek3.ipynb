{
 "cells": [
  {
   "cell_type": "code",
   "execution_count": 1,
   "metadata": {},
   "outputs": [
    {
     "name": "stdout",
     "output_type": "stream",
     "text": [
      "Best parameters for Naive Bayes:  {}\n",
      "Best parameters for SVC:  {'C': 0.1, 'kernel': 'linear'}\n",
      "Naive Bayes Test Accuracy:  0.9666666666666667\n",
      "SVC Test Accuracy:  0.9666666666666667\n"
     ]
    }
   ],
   "source": [
    "# Import library yang dibutuhkan\n",
    "from sklearn.model_selection import GridSearchCV, StratifiedKFold\n",
    "from sklearn.naive_bayes import GaussianNB\n",
    "from sklearn.svm import SVC\n",
    "from sklearn.datasets import load_iris\n",
    "from sklearn.model_selection import train_test_split\n",
    "\n",
    "# Load dataset (contoh menggunakan dataset iris)\n",
    "iris = load_iris()\n",
    "X = iris.data\n",
    "y = iris.target\n",
    "\n",
    "# Split data menjadi training dan testing set\n",
    "X_train, X_test, y_train, y_test = train_test_split(X, y, test_size=0.2, stratify=y, random_state=42)\n",
    "\n",
    "# Membuat objek model GaussianNB dan SVC\n",
    "nb_model = GaussianNB()\n",
    "svc_model = SVC(probability=True)\n",
    "\n",
    "# Hyperparameter grid untuk SVC\n",
    "params_svc = {\n",
    "    'C': [0.1, 1, 10],\n",
    "    'kernel': ['linear', 'rbf']\n",
    "}\n",
    "\n",
    "# Membuat StratifiedKFold untuk cross-validation\n",
    "skf = StratifiedKFold(n_splits=5)\n",
    "\n",
    "# Membuat GridSearchCV untuk Naive Bayes dan SVC\n",
    "nb_grid = GridSearchCV(nb_model, param_grid={}, cv=skf)  # Naive Bayes tidak memiliki hyperparameter untuk diuji\n",
    "svc_grid = GridSearchCV(svc_model, param_grid=params_svc, cv=skf)\n",
    "\n",
    "# Fitting model dengan data training\n",
    "nb_grid.fit(X_train, y_train)\n",
    "svc_grid.fit(X_train, y_train)\n",
    "\n",
    "# Menampilkan hasil terbaik dari GridSearch\n",
    "print(\"Best parameters for Naive Bayes: \", nb_grid.best_params_)\n",
    "print(\"Best parameters for SVC: \", svc_grid.best_params_)\n",
    "\n",
    "# Evaluasi performa model terbaik pada data test\n",
    "print(\"Naive Bayes Test Accuracy: \", nb_grid.score(X_test, y_test))\n",
    "print(\"SVC Test Accuracy: \", svc_grid.score(X_test, y_test))\n"
   ]
  },
  {
   "cell_type": "code",
   "execution_count": 2,
   "metadata": {},
   "outputs": [
    {
     "data": {
      "text/plain": [
       "array([0, 0, 0, 0, 0, 0, 0, 0, 0, 0, 0, 0, 0, 0, 0, 0, 0, 0, 0, 0, 0, 0,\n",
       "       0, 0, 0, 0, 0, 0, 0, 0, 0, 0, 0, 0, 0, 0, 0, 0, 0, 0, 0, 0, 0, 0,\n",
       "       0, 0, 0, 0, 0, 0, 1, 1, 1, 1, 1, 1, 1, 1, 1, 1, 1, 1, 1, 1, 1, 1,\n",
       "       1, 1, 1, 1, 1, 1, 1, 1, 1, 1, 1, 1, 1, 1, 1, 1, 1, 1, 1, 1, 1, 1,\n",
       "       1, 1, 1, 1, 1, 1, 1, 1, 1, 1, 1, 1, 2, 2, 2, 2, 2, 2, 2, 2, 2, 2,\n",
       "       2, 2, 2, 2, 2, 2, 2, 2, 2, 2, 2, 2, 2, 2, 2, 2, 2, 2, 2, 2, 2, 2,\n",
       "       2, 2, 2, 2, 2, 2, 2, 2, 2, 2, 2, 2, 2, 2, 2, 2, 2, 2])"
      ]
     },
     "execution_count": 2,
     "metadata": {},
     "output_type": "execute_result"
    }
   ],
   "source": [
    "y"
   ]
  }
 ],
 "metadata": {
  "kernelspec": {
   "display_name": "Python 3",
   "language": "python",
   "name": "python3"
  },
  "language_info": {
   "codemirror_mode": {
    "name": "ipython",
    "version": 3
   },
   "file_extension": ".py",
   "mimetype": "text/x-python",
   "name": "python",
   "nbconvert_exporter": "python",
   "pygments_lexer": "ipython3",
   "version": "3.10.12"
  }
 },
 "nbformat": 4,
 "nbformat_minor": 2
}
